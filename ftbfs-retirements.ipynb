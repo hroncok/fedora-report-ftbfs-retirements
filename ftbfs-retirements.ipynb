{
 "cells": [
  {
   "cell_type": "code",
   "execution_count": 1,
   "metadata": {},
   "outputs": [],
   "source": [
    "rawhide_pkgs = !repoquery -q --refresh --repo=koji-source --all --latest=1"
   ]
  },
  {
   "cell_type": "code",
   "execution_count": 2,
   "metadata": {},
   "outputs": [
    {
     "data": {
      "text/plain": [
       "['0ad-0:0.0.26-25.fc42.src',\n",
       " '0ad-data-0:0.0.26-8.fc41.src',\n",
       " '0install-0:2.18-2.fc42.src',\n",
       " '0xFFFF-0:0.10-10.fc42.src',\n",
       " '2048-cli-0:0.9.1-21.fc41.src']"
      ]
     },
     "execution_count": 2,
     "metadata": {},
     "output_type": "execute_result"
    }
   ],
   "source": [
    "rawhide_pkgs[:5]"
   ]
  },
  {
   "cell_type": "code",
   "execution_count": 3,
   "metadata": {},
   "outputs": [
    {
     "name": "stdout",
     "output_type": "stream",
     "text": [
      "    afpfs-ng-0:0.8.1-43.fc39.src\n",
      "    apt-cacher-ng-0:3.7.4-6.fc39.src\n",
      "    clamsmtp-0:1.10-40.fc39.src\n",
      "    colrdx-0:1.02-30.fc39.src\n",
      "    dateutils-0:0.4.10-5.fc39.src\n",
      "    deepin-kwin-0:5.4.26-8.fc39.src\n",
      "    dummy-test-package-gloster-0:0-10429.fc39.src\n",
      "    eurephia-0:1.1.1-11.fc39.src\n",
      "    gcin-0:2.9.0-11.fc39.src\n",
      "    gmediarender-0:0.0.9-7.fc39.src\n",
      "    golang-github-prometheus-0:2.32.1-9.fc38.src\n",
      "    golang-github-siddontang-goredis-0:0-0.7.20210111git0b4019c.fc39.src\n",
      "    golang-storj-drpc-0:0.0.31-5.fc38.src\n",
      "    gtkhtml3-0:4.10.0-18.fc39.src\n",
      "    isrcsubmit-0:2.1.0-14.fc39.src\n",
      "    jaero-0:1.0.4.11-10.fc39.src\n",
      "    jed-0:0.99.19-27.fc39.src\n",
      "    k4dirstat-0:3.2.0-7.fc39.src\n",
      "    klamav-0:0.46-42.fc39.src\n",
      "    libgenht-0:1.1.3-3.fc39.src\n",
      "    libiodbc-0:3.52.15-4.fc39.src\n",
      "    libvirt-cim-0:0.6.3-21.fc39.src\n",
      "    marker-0:0.0.2023.05.02-2.fc39.src\n",
      "    mcpp-0:2.7.2-34.fc39.src\n",
      "    mod_suphp-0:0.7.2-21.fc39.src\n",
      "    opendbx-0:1.4.6-34.fc39.src\n",
      "    pcb-rnd-0:2.4.0-8.fc39.src\n",
      "    phasex-0:0.14.97-9.20150304git4942467.fc39.2.src\n",
      "    php-Faker-0:1.9.2-6.fc39.src\n",
      "    php-aws-php-sns-message-validator-0:1.6.0-8.fc39.src\n",
      "    php-cache-adapter-common-0:1.1.0-10.fc39.src\n",
      "    php-cache-filesystem-adapter-0:1.1.0-5.fc39.src\n",
      "    php-doctrine-annotations-0:1.14.3-2.fc39.src\n",
      "    php-doctrine-cache-0:1.13.0-4.fc39.src\n",
      "    php-doctrine-datafixtures-0:1.6.5-2.fc39.src\n",
      "    php-egulias-email-validator-0:1.2.17-8.fc39.src\n",
      "    php-erusev-parsedown-0:1.7.1-10.fc39.src\n",
      "    php-fig-link-util-0:1.1.0-8.fc39.src\n",
      "    php-jdorn-sql-formatter-0:1.2.17-19.fc39.src\n",
      "    php-liuggio-statsd-php-client-0:1.0.18-16.fc39.src\n",
      "    php-paragonie-random-compat-0:2.0.18-10.fc39.src\n",
      "    php-phpdocumentor-reflection-common-0:1.0.1-13.fc39.src\n",
      "    php-phpdocumentor-reflection-docblock2-0:2.0.5-14.fc39.src\n",
      "    php-phpdocumentor-type-resolver-0:0.4.0-16.fc39.src\n",
      "    php-phpseclib-0:2.0.44-2.fc39.src\n",
      "    php-sentry-0:0.22.0-17.fc39.src\n",
      "    prelude-manager-0:5.2.0-10.fc39.src\n",
      "    qm-dsp-0:1.7.1-19.fc39.src\n",
      "    qm-vamp-plugins-0:1.7.1-19.fc39.src\n",
      "    quicksynergy-0:0.8.1-30.fc39.src\n",
      "    rats-0:2.4-24.fc39.src\n",
      "    rogue-0:5.4.5-36.fc39.src\n",
      "    rubygem-async_sinatra-0:1.3.0-14.fc39.src\n",
      "    slashem-0:0.0.8-0.37.E0F1.fc39.src\n",
      "    smartsim-0:1.4-21.fc39.src\n",
      "    tcl-tclxml-0:3.2-34.fc39.src\n",
      "    tuxguitar-0:1.5.4-8.fc39.src\n",
      "    vinagre-0:3.22.0-29.fc39.src\n",
      "    whereami-0:1.0-26.fc39.src\n"
     ]
    }
   ],
   "source": [
    "s = set()\n",
    "\n",
    "for pkg in rawhide_pkgs:\n",
    "    nev, _, ra = pkg.rpartition('-')\n",
    "    name, _, ev = nev.rpartition('-')\n",
    "    epoch, _, version = ev.rpartition(':')\n",
    "    release, _, arch = ra.rpartition('.')\n",
    "    assert arch == 'src', pkg\n",
    "    # exceptions, https://docs.fedoraproject.org/en-US/fesco/Fails_to_build_from_source_Fails_to_install/#_packages_exempted_from_this_policy\n",
    "    if name in {'shim', 'shim-unsigned-aarch64', 'shim-unsigned-x64'}:\n",
    "        continue\n",
    "    # https://lists.fedoraproject.org/archives/list/devel@lists.fedoraproject.org/thread/DVVYHY2IOUBKCABUIUTP6GBFF5YGA6EY/\n",
    "    if name.startswith('java-') and name.endswith('-portable'):\n",
    "        continue\n",
    "    fcpart = False\n",
    "    for part in reversed(release.split('.')):\n",
    "        if part.startswith('fc'):\n",
    "            fcpart = True\n",
    "            if part[:4] in ('fc43', 'fc42', 'fc41', 'fc40'):\n",
    "                break\n",
    "            else:\n",
    "                print('   ', pkg)\n",
    "                s.add(name)\n",
    "                break\n",
    "    else:\n",
    "        if not fcpart:\n",
    "            # special cases\n",
    "            if version in ('43', '42', '41', '40') and (name.startswith('fedora-') or name == 'generic-release'):\n",
    "                pass\n",
    "            elif name.startswith('dummy-test-package-'):\n",
    "                pass\n",
    "            else:\n",
    "                print('XXX', pkg)"
   ]
  },
  {
   "cell_type": "code",
   "execution_count": 4,
   "metadata": {},
   "outputs": [
    {
     "data": {
      "text/plain": [
       "['afpfs-ng',\n",
       " 'apt-cacher-ng',\n",
       " 'clamsmtp',\n",
       " 'colrdx',\n",
       " 'dateutils',\n",
       " 'deepin-kwin',\n",
       " 'dummy-test-package-gloster',\n",
       " 'eurephia',\n",
       " 'gcin',\n",
       " 'gmediarender',\n",
       " 'golang-github-prometheus',\n",
       " 'golang-github-siddontang-goredis',\n",
       " 'golang-storj-drpc',\n",
       " 'gtkhtml3',\n",
       " 'isrcsubmit',\n",
       " 'jaero',\n",
       " 'jed',\n",
       " 'k4dirstat',\n",
       " 'klamav',\n",
       " 'libgenht',\n",
       " 'libiodbc',\n",
       " 'libvirt-cim',\n",
       " 'marker',\n",
       " 'mcpp',\n",
       " 'mod_suphp',\n",
       " 'opendbx',\n",
       " 'pcb-rnd',\n",
       " 'phasex',\n",
       " 'php-Faker',\n",
       " 'php-aws-php-sns-message-validator',\n",
       " 'php-cache-adapter-common',\n",
       " 'php-cache-filesystem-adapter',\n",
       " 'php-doctrine-annotations',\n",
       " 'php-doctrine-cache',\n",
       " 'php-doctrine-datafixtures',\n",
       " 'php-egulias-email-validator',\n",
       " 'php-erusev-parsedown',\n",
       " 'php-fig-link-util',\n",
       " 'php-jdorn-sql-formatter',\n",
       " 'php-liuggio-statsd-php-client',\n",
       " 'php-paragonie-random-compat',\n",
       " 'php-phpdocumentor-reflection-common',\n",
       " 'php-phpdocumentor-reflection-docblock2',\n",
       " 'php-phpdocumentor-type-resolver',\n",
       " 'php-phpseclib',\n",
       " 'php-sentry',\n",
       " 'prelude-manager',\n",
       " 'qm-dsp',\n",
       " 'qm-vamp-plugins',\n",
       " 'quicksynergy',\n",
       " 'rats',\n",
       " 'rogue',\n",
       " 'rubygem-async_sinatra',\n",
       " 'slashem',\n",
       " 'smartsim',\n",
       " 'tcl-tclxml',\n",
       " 'tuxguitar',\n",
       " 'vinagre',\n",
       " 'whereami']"
      ]
     },
     "execution_count": 4,
     "metadata": {},
     "output_type": "execute_result"
    }
   ],
   "source": [
    "sorted(s)"
   ]
  },
  {
   "cell_type": "code",
   "execution_count": 5,
   "metadata": {},
   "outputs": [
    {
     "data": {
      "text/plain": [
       "59"
      ]
     },
     "execution_count": 5,
     "metadata": {},
     "output_type": "execute_result"
    }
   ],
   "source": [
    "len(s)"
   ]
  },
  {
   "cell_type": "code",
   "execution_count": 6,
   "metadata": {},
   "outputs": [
    {
     "name": "stdout",
     "output_type": "stream",
     "text": [
      "afpfs-ng apt-cacher-ng clamsmtp colrdx dateutils deepin-kwin dummy-test-package-gloster eurephia gcin gmediarender golang-github-prometheus golang-github-siddontang-goredis golang-storj-drpc gtkhtml3 isrcsubmit jaero jed k4dirstat klamav libgenht libiodbc libvirt-cim marker mcpp mod_suphp opendbx pcb-rnd phasex php-Faker php-aws-php-sns-message-validator php-cache-adapter-common php-cache-filesystem-adapter php-doctrine-annotations php-doctrine-cache php-doctrine-datafixtures php-egulias-email-validator php-erusev-parsedown php-fig-link-util php-jdorn-sql-formatter php-liuggio-statsd-php-client php-paragonie-random-compat php-phpdocumentor-reflection-common php-phpdocumentor-reflection-docblock2 php-phpdocumentor-type-resolver php-phpseclib php-sentry prelude-manager qm-dsp qm-vamp-plugins quicksynergy rats rogue rubygem-async_sinatra slashem smartsim tcl-tclxml tuxguitar vinagre whereami\n"
     ]
    }
   ],
   "source": [
    "print(' '.join(sorted(s)))"
   ]
  },
  {
   "cell_type": "code",
   "execution_count": 7,
   "metadata": {},
   "outputs": [
    {
     "name": "stdout",
     "output_type": "stream",
     "text": [
      "afpfs-ng\n",
      "apt-cacher-ng\n",
      "clamsmtp\n",
      "colrdx\n",
      "dateutils\n",
      "deepin-kwin\n",
      "dummy-test-package-gloster\n",
      "eurephia\n",
      "gcin\n",
      "gmediarender\n",
      "golang-github-prometheus\n",
      "golang-github-siddontang-goredis\n",
      "golang-storj-drpc\n",
      "gtkhtml3\n",
      "isrcsubmit\n",
      "jaero\n",
      "jed\n",
      "k4dirstat\n",
      "klamav\n",
      "libgenht\n",
      "libiodbc\n",
      "libvirt-cim\n",
      "marker\n",
      "mcpp\n",
      "mod_suphp\n",
      "opendbx\n",
      "pcb-rnd\n",
      "phasex\n",
      "php-Faker\n",
      "php-aws-php-sns-message-validator\n",
      "php-cache-adapter-common\n",
      "php-cache-filesystem-adapter\n",
      "php-doctrine-annotations\n",
      "php-doctrine-cache\n",
      "php-doctrine-datafixtures\n",
      "php-egulias-email-validator\n",
      "php-erusev-parsedown\n",
      "php-fig-link-util\n",
      "php-jdorn-sql-formatter\n",
      "php-liuggio-statsd-php-client\n",
      "php-paragonie-random-compat\n",
      "php-phpdocumentor-reflection-common\n",
      "php-phpdocumentor-reflection-docblock2\n",
      "php-phpdocumentor-type-resolver\n",
      "php-phpseclib\n",
      "php-sentry\n",
      "prelude-manager\n",
      "qm-dsp\n",
      "qm-vamp-plugins\n",
      "quicksynergy\n",
      "rats\n",
      "rogue\n",
      "rubygem-async_sinatra\n",
      "slashem\n",
      "smartsim\n",
      "tcl-tclxml\n",
      "tuxguitar\n",
      "vinagre\n",
      "whereami\n"
     ]
    }
   ],
   "source": [
    "print('\\n'.join(sorted(s)))"
   ]
  },
  {
   "cell_type": "code",
   "execution_count": null,
   "metadata": {},
   "outputs": [],
   "source": []
  }
 ],
 "metadata": {
  "kernelspec": {
   "display_name": "Python 3 (ipykernel)",
   "language": "python",
   "name": "python3"
  },
  "language_info": {
   "codemirror_mode": {
    "name": "ipython",
    "version": 3
   },
   "file_extension": ".py",
   "mimetype": "text/x-python",
   "name": "python",
   "nbconvert_exporter": "python",
   "pygments_lexer": "ipython3",
   "version": "3.13.1"
  }
 },
 "nbformat": 4,
 "nbformat_minor": 4
}
