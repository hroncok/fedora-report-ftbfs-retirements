{
 "cells": [
  {
   "cell_type": "code",
   "execution_count": 1,
   "metadata": {},
   "outputs": [],
   "source": [
    "rawhide_pkgs = !repoquery --refresh --repo=koji-source --all --latest=1 2>/dev/null"
   ]
  },
  {
   "cell_type": "code",
   "execution_count": 2,
   "metadata": {},
   "outputs": [
    {
     "data": {
      "text/plain": [
       "['0ad-0:0.0.26-10.fc39.src',\n",
       " '0ad-data-0:0.0.26-3.fc39.src',\n",
       " '0xFFFF-0:0.10-3.fc39.src',\n",
       " '2048-cli-0:0.9.1-16.fc39.src',\n",
       " '2ping-0:4.5.1-7.fc39.src']"
      ]
     },
     "execution_count": 2,
     "metadata": {},
     "output_type": "execute_result"
    }
   ],
   "source": [
    "rawhide_pkgs[:5]"
   ]
  },
  {
   "cell_type": "code",
   "execution_count": 3,
   "metadata": {},
   "outputs": [
    {
     "name": "stdout",
     "output_type": "stream",
     "text": [
      "    DecodeIR-0:2.45-19.fc36.src\n",
      "    apache-commons-fileupload-0:1.4-8.fc36.src\n",
      "    avarice-0:2.13-15.fc36.src\n",
      "    burp-0:2.1.32-12.fc36.src\n",
      "    clang12-0:12.0.1-4.fc36.src\n",
      "    emacs-common-ess-0:18.10.2-6.fc36.src\n",
      "    fasttext-0:0.9.2-4.fc36.src\n",
      "    golang-github-burntsushi-xgbutil-0:0-0.14.20210114gitad855c7.fc36.src\n",
      "    golang-github-docker-slim-0:1.36.4-4.fc36.src\n",
      "    golang-github-facebookarchive-inject-0:0-0.10.20190326gitf23751c.fc36.src\n",
      "    golang-github-facebookarchive-structtag-0:0-0.10.20190327git217e25f.fc36.src\n",
      "    golang-github-facebookgo-ensure-0:0-0.3.20210705git63f1cf6.fc36.src\n",
      "    golang-github-facebookgo-stack-0:0-0.3.20210702git7517733.fc36.src\n",
      "    golang-github-ghemawat-stream-0:0-0.7.20190701git696b145.fc36.src\n",
      "    golang-github-gorp-3-0:3.0.2-3.fc36.src\n",
      "    golang-github-haproxytech-models-0:2.2.0-4.fc36.src\n",
      "    golang-github-jackc-pgproto3-0:2.0.7-4.fc36.src\n",
      "    golang-github-jackc-pgservicefile-0:0-0.4.20200909git2b9c447.fc36.src\n",
      "    golang-github-nkovacs-streamquote-0:1.0.0-8.fc36.src\n",
      "    golang-github-powerman-check-0:1.6.0-2.fc36.src\n",
      "    golang-github-quay-clair-3-0:3.0.0~pre1-2.fc36.src\n",
      "    golang-github-remind101-migrate-0:0-0.3.20210920git52c1edf.fc36.src\n",
      "    golang-github-vmware-vmw-guestinfo-0:0-0.8.20200804git687661b.fc36.src\n",
      "    golang-github-zmap-zlint-1:1.1.0-4.fc36.src\n",
      "    golang-go4-0:0-0.15.20210113gitd4a0794.fc36.src\n",
      "    golang-gopkg-retry-1-0:1.0.3-8.fc36.src\n",
      "    golang-gopkg-seborama-govcr-2-0:2.4.2-7.fc36.src\n",
      "    golang-gopkg-sourcemap-1-0:1.0.5-14.fc36.src\n",
      "    golang-gvisor-0:20211129.0-2.20211217git9bd5098.fc36.src\n",
      "    golang-rsc-qr-0:0.2.0-7.fc36.src\n",
      "    golang-sigs-k8s-kustomize-0:4.0.3-2.fc36.src\n",
      "    golang-vitess-0:11.0.1-1.fc36.src\n",
      "    hibernate-jpa-2.1-api-0:1.0.0-13.fc36.src\n",
      "    libffi3.1-0:3.1-32.fc36.src\n",
      "    libifp-0:1.0.0.2-33.fc36.src\n",
      "    mongo-cxx-driver-0:3.6.5-2.fc36.src\n",
      "    mspdebug-0:0.25-10.fc36.src\n",
      "    multican-0:0.0.5-29.fc36.src\n",
      "    opentracker-0:0-0.25.20160728cvs.fc36.src\n",
      "    racket-0:7.4-6.fc36.src\n",
      "    rubygem-rspec-collection_matchers-0:1.2.0-4.fc36.src\n",
      "    serp-0:1.15.2-0.17.20150412cvs.fc36.src\n",
      "    sispmctl-0:3.1-16.fc36.src\n",
      "    spew-0:1.0.8-27.fc36.src\n",
      "    usbsoftrock-0:1.0.2-22.fc36.src\n",
      "    xmpcore-0:5.1.2-18.fc36.src\n"
     ]
    }
   ],
   "source": [
    "s = set()\n",
    "\n",
    "for pkg in rawhide_pkgs:\n",
    "    nev, _, ra = pkg.rpartition('-')\n",
    "    name, _, ev = nev.rpartition('-')\n",
    "    epoch, _, version = ev.rpartition(':')\n",
    "    release, _, arch = ra.rpartition('.')\n",
    "    assert arch == 'src', pkg\n",
    "    # exceptions, https://docs.fedoraproject.org/en-US/fesco/Fails_to_build_from_source_Fails_to_install/#_packages_exempted_from_this_policy\n",
    "    if name in {'shim', 'shim-unsigned-aarch64', 'shim-unsigned-x64'}:\n",
    "        continue\n",
    "    fcpart = False\n",
    "    for part in reversed(release.split('.')):\n",
    "        if part.startswith('fc'):\n",
    "            fcpart = True\n",
    "            if part[:4] in ('fc40', 'fc39', 'fc38', 'fc37'):\n",
    "                break\n",
    "            else:\n",
    "                print('   ', pkg)\n",
    "                s.add(name)\n",
    "                break\n",
    "    else:\n",
    "        if not fcpart:\n",
    "            # special cases\n",
    "            if version in ('40', '39', '38', '37') and (name.startswith('fedora-') or name == 'generic-release'):\n",
    "                pass\n",
    "            elif name.startswith('dummy-test-package-'):\n",
    "                pass\n",
    "            else:\n",
    "                print('XXX', pkg)"
   ]
  },
  {
   "cell_type": "code",
   "execution_count": 4,
   "metadata": {},
   "outputs": [
    {
     "data": {
      "text/plain": [
       "['DecodeIR',\n",
       " 'apache-commons-fileupload',\n",
       " 'avarice',\n",
       " 'burp',\n",
       " 'clang12',\n",
       " 'emacs-common-ess',\n",
       " 'fasttext',\n",
       " 'golang-github-burntsushi-xgbutil',\n",
       " 'golang-github-docker-slim',\n",
       " 'golang-github-facebookarchive-inject',\n",
       " 'golang-github-facebookarchive-structtag',\n",
       " 'golang-github-facebookgo-ensure',\n",
       " 'golang-github-facebookgo-stack',\n",
       " 'golang-github-ghemawat-stream',\n",
       " 'golang-github-gorp-3',\n",
       " 'golang-github-haproxytech-models',\n",
       " 'golang-github-jackc-pgproto3',\n",
       " 'golang-github-jackc-pgservicefile',\n",
       " 'golang-github-nkovacs-streamquote',\n",
       " 'golang-github-powerman-check',\n",
       " 'golang-github-quay-clair-3',\n",
       " 'golang-github-remind101-migrate',\n",
       " 'golang-github-vmware-vmw-guestinfo',\n",
       " 'golang-github-zmap-zlint',\n",
       " 'golang-go4',\n",
       " 'golang-gopkg-retry-1',\n",
       " 'golang-gopkg-seborama-govcr-2',\n",
       " 'golang-gopkg-sourcemap-1',\n",
       " 'golang-gvisor',\n",
       " 'golang-rsc-qr',\n",
       " 'golang-sigs-k8s-kustomize',\n",
       " 'golang-vitess',\n",
       " 'hibernate-jpa-2.1-api',\n",
       " 'libffi3.1',\n",
       " 'libifp',\n",
       " 'mongo-cxx-driver',\n",
       " 'mspdebug',\n",
       " 'multican',\n",
       " 'opentracker',\n",
       " 'racket',\n",
       " 'rubygem-rspec-collection_matchers',\n",
       " 'serp',\n",
       " 'sispmctl',\n",
       " 'spew',\n",
       " 'usbsoftrock',\n",
       " 'xmpcore']"
      ]
     },
     "execution_count": 4,
     "metadata": {},
     "output_type": "execute_result"
    }
   ],
   "source": [
    "sorted(s)"
   ]
  },
  {
   "cell_type": "code",
   "execution_count": 5,
   "metadata": {},
   "outputs": [
    {
     "data": {
      "text/plain": [
       "46"
      ]
     },
     "execution_count": 5,
     "metadata": {},
     "output_type": "execute_result"
    }
   ],
   "source": [
    "len(s)"
   ]
  },
  {
   "cell_type": "code",
   "execution_count": 6,
   "metadata": {},
   "outputs": [
    {
     "name": "stdout",
     "output_type": "stream",
     "text": [
      "DecodeIR apache-commons-fileupload avarice burp clang12 emacs-common-ess fasttext golang-github-burntsushi-xgbutil golang-github-docker-slim golang-github-facebookarchive-inject golang-github-facebookarchive-structtag golang-github-facebookgo-ensure golang-github-facebookgo-stack golang-github-ghemawat-stream golang-github-gorp-3 golang-github-haproxytech-models golang-github-jackc-pgproto3 golang-github-jackc-pgservicefile golang-github-nkovacs-streamquote golang-github-powerman-check golang-github-quay-clair-3 golang-github-remind101-migrate golang-github-vmware-vmw-guestinfo golang-github-zmap-zlint golang-go4 golang-gopkg-retry-1 golang-gopkg-seborama-govcr-2 golang-gopkg-sourcemap-1 golang-gvisor golang-rsc-qr golang-sigs-k8s-kustomize golang-vitess hibernate-jpa-2.1-api libffi3.1 libifp mongo-cxx-driver mspdebug multican opentracker racket rubygem-rspec-collection_matchers serp sispmctl spew usbsoftrock xmpcore\n"
     ]
    }
   ],
   "source": [
    "print(' '.join(sorted(s)))"
   ]
  },
  {
   "cell_type": "code",
   "execution_count": 7,
   "metadata": {},
   "outputs": [
    {
     "name": "stdout",
     "output_type": "stream",
     "text": [
      "DecodeIR\n",
      "apache-commons-fileupload\n",
      "avarice\n",
      "burp\n",
      "clang12\n",
      "emacs-common-ess\n",
      "fasttext\n",
      "golang-github-burntsushi-xgbutil\n",
      "golang-github-docker-slim\n",
      "golang-github-facebookarchive-inject\n",
      "golang-github-facebookarchive-structtag\n",
      "golang-github-facebookgo-ensure\n",
      "golang-github-facebookgo-stack\n",
      "golang-github-ghemawat-stream\n",
      "golang-github-gorp-3\n",
      "golang-github-haproxytech-models\n",
      "golang-github-jackc-pgproto3\n",
      "golang-github-jackc-pgservicefile\n",
      "golang-github-nkovacs-streamquote\n",
      "golang-github-powerman-check\n",
      "golang-github-quay-clair-3\n",
      "golang-github-remind101-migrate\n",
      "golang-github-vmware-vmw-guestinfo\n",
      "golang-github-zmap-zlint\n",
      "golang-go4\n",
      "golang-gopkg-retry-1\n",
      "golang-gopkg-seborama-govcr-2\n",
      "golang-gopkg-sourcemap-1\n",
      "golang-gvisor\n",
      "golang-rsc-qr\n",
      "golang-sigs-k8s-kustomize\n",
      "golang-vitess\n",
      "hibernate-jpa-2.1-api\n",
      "libffi3.1\n",
      "libifp\n",
      "mongo-cxx-driver\n",
      "mspdebug\n",
      "multican\n",
      "opentracker\n",
      "racket\n",
      "rubygem-rspec-collection_matchers\n",
      "serp\n",
      "sispmctl\n",
      "spew\n",
      "usbsoftrock\n",
      "xmpcore\n"
     ]
    }
   ],
   "source": [
    "print('\\n'.join(sorted(s)))"
   ]
  },
  {
   "cell_type": "code",
   "execution_count": null,
   "metadata": {},
   "outputs": [],
   "source": []
  }
 ],
 "metadata": {
  "kernelspec": {
   "display_name": "Python 3 (ipykernel)",
   "language": "python",
   "name": "python3"
  },
  "language_info": {
   "codemirror_mode": {
    "name": "ipython",
    "version": 3
   },
   "file_extension": ".py",
   "mimetype": "text/x-python",
   "name": "python",
   "nbconvert_exporter": "python",
   "pygments_lexer": "ipython3",
   "version": "3.11.4"
  }
 },
 "nbformat": 4,
 "nbformat_minor": 2
}
