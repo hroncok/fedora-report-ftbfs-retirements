{
 "cells": [
  {
   "cell_type": "code",
   "execution_count": 1,
   "metadata": {},
   "outputs": [],
   "source": [
    "rawhide_pkgs = !repoquery --refresh --repo=koji-source --all --latest=1 2>/dev/null"
   ]
  },
  {
   "cell_type": "code",
   "execution_count": 2,
   "metadata": {},
   "outputs": [
    {
     "data": {
      "text/plain": [
       "['0ad-0:0.0.23b-18.fc33.src',\n",
       " '0ad-data-0:0.0.23b-4.fc32.src',\n",
       " '0xFFFF-0:0.8-3.fc32.src',\n",
       " '2048-cli-0:0.9.1-9.fc32.src',\n",
       " '2ping-0:4.5-1.fc33.src']"
      ]
     },
     "execution_count": 2,
     "metadata": {},
     "output_type": "execute_result"
    }
   ],
   "source": [
    "rawhide_pkgs[:5]"
   ]
  },
  {
   "cell_type": "code",
   "execution_count": 3,
   "metadata": {},
   "outputs": [
    {
     "name": "stdout",
     "output_type": "stream",
     "text": [
      "    OpenCoarrays-0:2.3.1-3.fc30.src\n",
      "    js-jquery-jqplot-0:1.0.9-3.fc30.src\n",
      "    js-jquery1-0:1.12.4-7.fc30.src\n",
      "    js-jquery2-0:2.2.4-5.fc30.src\n",
      "    js-sizzle-0:2.1.1-8.jquery.2.1.2.fc30.src\n",
      "    nodejs-path-type-0:2.0.0-5.fc30.src\n",
      "    nodejs-temp-write-0:3.3.0-4.fc30.src\n",
      "    nodejs-unique-stream-0:2.2.1-6.fc30.src\n",
      "    orpie-0:1.5.2-10.fc30.src\n",
      "    rubygem-ruby-hmac-0:0.4.0-18.fc30.src\n"
     ]
    }
   ],
   "source": [
    "s = set()\n",
    "\n",
    "for pkg in rawhide_pkgs:\n",
    "    nev, _, ra = pkg.rpartition('-')\n",
    "    name, _, ev = nev.rpartition('-')\n",
    "    epoch, _, version = ev.rpartition(':')\n",
    "    release, _, arch = ra.rpartition('.')\n",
    "    assert arch == 'src', pkg\n",
    "    # exceptions, https://docs.fedoraproject.org/en-US/fesco/Fails_to_build_from_source_Fails_to_install/#_packages_exempted_from_this_policy\n",
    "    if name in {'shim', 'shim-unsigned-aarch64', 'shim-unsigned-x64'}:\n",
    "        continue\n",
    "    fcpart = False\n",
    "    for part in reversed(release.split('.')):\n",
    "        if part.startswith('fc'):\n",
    "            fcpart = True\n",
    "            if part[:4] in ('fc33', 'fc32', 'fc31'):\n",
    "                break\n",
    "            else:\n",
    "                print('   ', pkg)\n",
    "                s.add(name)\n",
    "                break\n",
    "    else:\n",
    "        if not fcpart:\n",
    "            # special cases\n",
    "            if version == '33' and (name.startswith('fedora-') or name == 'generic-release'):\n",
    "                pass\n",
    "            else:\n",
    "                print('XXX', pkg)"
   ]
  },
  {
   "cell_type": "code",
   "execution_count": 4,
   "metadata": {},
   "outputs": [
    {
     "data": {
      "text/plain": [
       "['OpenCoarrays',\n",
       " 'js-jquery-jqplot',\n",
       " 'js-jquery1',\n",
       " 'js-jquery2',\n",
       " 'js-sizzle',\n",
       " 'nodejs-path-type',\n",
       " 'nodejs-temp-write',\n",
       " 'nodejs-unique-stream',\n",
       " 'orpie',\n",
       " 'rubygem-ruby-hmac']"
      ]
     },
     "execution_count": 4,
     "metadata": {},
     "output_type": "execute_result"
    }
   ],
   "source": [
    "sorted(s)"
   ]
  },
  {
   "cell_type": "code",
   "execution_count": 5,
   "metadata": {},
   "outputs": [
    {
     "data": {
      "text/plain": [
       "10"
      ]
     },
     "execution_count": 5,
     "metadata": {},
     "output_type": "execute_result"
    }
   ],
   "source": [
    "len(s)"
   ]
  },
  {
   "cell_type": "code",
   "execution_count": null,
   "metadata": {},
   "outputs": [],
   "source": []
  }
 ],
 "metadata": {
  "kernelspec": {
   "display_name": "Python 3",
   "language": "python",
   "name": "python3"
  },
  "language_info": {
   "codemirror_mode": {
    "name": "ipython",
    "version": 3
   },
   "file_extension": ".py",
   "mimetype": "text/x-python",
   "name": "python",
   "nbconvert_exporter": "python",
   "pygments_lexer": "ipython3",
   "version": "3.8.3"
  }
 },
 "nbformat": 4,
 "nbformat_minor": 2
}
