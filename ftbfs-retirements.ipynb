{
 "cells": [
  {
   "cell_type": "code",
   "execution_count": 1,
   "metadata": {},
   "outputs": [],
   "source": [
    "rawhide_pkgs = !repoquery --refresh --repo=koji-source --all --latest=1 2>/dev/null"
   ]
  },
  {
   "cell_type": "code",
   "execution_count": 2,
   "metadata": {},
   "outputs": [
    {
     "data": {
      "text/plain": [
       "['0ad-0:0.0.25b-2.fc36.src',\n",
       " '0ad-data-0:0.0.25b-3.fc36.src',\n",
       " '0xFFFF-0:0.9-4.fc36.src',\n",
       " '2048-cli-0:0.9.1-13.fc36.src',\n",
       " '2ping-0:4.5.1-2.fc36.src']"
      ]
     },
     "execution_count": 2,
     "metadata": {},
     "output_type": "execute_result"
    }
   ],
   "source": [
    "rawhide_pkgs[:5]"
   ]
  },
  {
   "cell_type": "code",
   "execution_count": 3,
   "metadata": {},
   "outputs": [
    {
     "name": "stdout",
     "output_type": "stream",
     "text": [
      "    forbidden-apis-0:2.5-10.fc34.src\n",
      "    golang-github-apparentlymart-textseg-12-0:12.0.0-3.fc34.src\n",
      "    golang-github-playground-validator-10-0:10.4.1-2.fc34.src\n",
      "    golang-grpc-go4-0:0-0.9.20180421git11d0a25.fc34.src\n",
      "    klamav-0:0.46-33.fc34.src\n",
      "    koffice-kivio-3:1.6.3-58.fc34.src\n",
      "    ktechlab-0:0.40.1-7.fc34.src\n",
      "    lancer-0:0.0.2-14.fc34.src\n",
      "    libeXosip2-0:3.6.0-23.fc34.src\n",
      "    libgnomecanvasmm26-0:2.26.0-26.fc34.src\n",
      "    libosip2-0:3.6.0-20.fc34.src\n",
      "    libowfat-0:0.30-16.fc34.src\n",
      "    mingw-jsoncpp-0:1.8.4-8.fc34.src\n",
      "    opari2-0:2.0.5-4.fc34.src\n",
      "    openjpeg-0:1.5.1-29.fc34.src\n",
      "    perl-Crypt-PWSafe3-0:1.22-17.fc34.src\n",
      "    pesign-test-app-0:5-26.fc34.src\n",
      "    php-aws-sdk3-0:3.152.0-2.fc34.src\n",
      "    php-pimple-0:3.2.3-7.fc34.src\n",
      "    recorder-0:1.1.0-1.fc34.src\n",
      "    rubygem-bundler_ext-0:0.4.1-11.fc34.src\n",
      "    rubygem-coffee-rails-0:5.0.0-1.fc34.src\n",
      "    rubygem-database_cleaner-0:1.7.0-5.fc34.src\n",
      "    rubygem-image_processing-0:1.11.0-2.fc34.src\n",
      "    rubygem-minitest-reporters-0:1.4.2-4.fc34.src\n",
      "    rubygem-sprockets-rails-0:3.2.2-2.fc34.src\n",
      "    tinygo-0:0.16.0-3.fc34.src\n",
      "    uom-parent-0:1.0.3-10.fc34.src\n",
      "    xs-0:1.2-3.git9592d9b.fc34.src\n",
      "    yecht-0:1.0-16.fc34.src\n"
     ]
    }
   ],
   "source": [
    "s = set()\n",
    "\n",
    "for pkg in rawhide_pkgs:\n",
    "    nev, _, ra = pkg.rpartition('-')\n",
    "    name, _, ev = nev.rpartition('-')\n",
    "    epoch, _, version = ev.rpartition(':')\n",
    "    release, _, arch = ra.rpartition('.')\n",
    "    assert arch == 'src', pkg\n",
    "    # exceptions, https://docs.fedoraproject.org/en-US/fesco/Fails_to_build_from_source_Fails_to_install/#_packages_exempted_from_this_policy\n",
    "    if name in {'shim', 'shim-unsigned-aarch64', 'shim-unsigned-x64'}:\n",
    "        continue\n",
    "    fcpart = False\n",
    "    for part in reversed(release.split('.')):\n",
    "        if part.startswith('fc'):\n",
    "            fcpart = True\n",
    "            if part[:4] in ('fc37', 'fc36', 'fc35'):\n",
    "                break\n",
    "            else:\n",
    "                print('   ', pkg)\n",
    "                s.add(name)\n",
    "                break\n",
    "    else:\n",
    "        if not fcpart:\n",
    "            # special cases\n",
    "            if version in ('37', '36',) and (name.startswith('fedora-') or name == 'generic-release'):\n",
    "                pass\n",
    "            elif name.startswith('dummy-test-package-'):\n",
    "                pass\n",
    "            else:\n",
    "                print('XXX', pkg)"
   ]
  },
  {
   "cell_type": "code",
   "execution_count": 4,
   "metadata": {},
   "outputs": [
    {
     "data": {
      "text/plain": [
       "['forbidden-apis',\n",
       " 'golang-github-apparentlymart-textseg-12',\n",
       " 'golang-github-playground-validator-10',\n",
       " 'golang-grpc-go4',\n",
       " 'klamav',\n",
       " 'koffice-kivio',\n",
       " 'ktechlab',\n",
       " 'lancer',\n",
       " 'libeXosip2',\n",
       " 'libgnomecanvasmm26',\n",
       " 'libosip2',\n",
       " 'libowfat',\n",
       " 'mingw-jsoncpp',\n",
       " 'opari2',\n",
       " 'openjpeg',\n",
       " 'perl-Crypt-PWSafe3',\n",
       " 'pesign-test-app',\n",
       " 'php-aws-sdk3',\n",
       " 'php-pimple',\n",
       " 'recorder',\n",
       " 'rubygem-bundler_ext',\n",
       " 'rubygem-coffee-rails',\n",
       " 'rubygem-database_cleaner',\n",
       " 'rubygem-image_processing',\n",
       " 'rubygem-minitest-reporters',\n",
       " 'rubygem-sprockets-rails',\n",
       " 'tinygo',\n",
       " 'uom-parent',\n",
       " 'xs',\n",
       " 'yecht']"
      ]
     },
     "execution_count": 4,
     "metadata": {},
     "output_type": "execute_result"
    }
   ],
   "source": [
    "sorted(s)"
   ]
  },
  {
   "cell_type": "code",
   "execution_count": 5,
   "metadata": {},
   "outputs": [
    {
     "data": {
      "text/plain": [
       "30"
      ]
     },
     "execution_count": 5,
     "metadata": {},
     "output_type": "execute_result"
    }
   ],
   "source": [
    "len(s)"
   ]
  },
  {
   "cell_type": "code",
   "execution_count": 8,
   "metadata": {},
   "outputs": [
    {
     "name": "stdout",
     "output_type": "stream",
     "text": [
      "forbidden-apis golang-github-apparentlymart-textseg-12 golang-github-playground-validator-10 golang-grpc-go4 klamav koffice-kivio ktechlab lancer libeXosip2 libgnomecanvasmm26 libosip2 libowfat mingw-jsoncpp opari2 openjpeg perl-Crypt-PWSafe3 pesign-test-app php-aws-sdk3 php-pimple recorder rubygem-bundler_ext rubygem-coffee-rails rubygem-database_cleaner rubygem-image_processing rubygem-minitest-reporters rubygem-sprockets-rails tinygo uom-parent xs yecht\n"
     ]
    }
   ],
   "source": [
    "print(' '.join(sorted(s)))"
   ]
  },
  {
   "cell_type": "code",
   "execution_count": 9,
   "metadata": {},
   "outputs": [
    {
     "name": "stdout",
     "output_type": "stream",
     "text": [
      "forbidden-apis\n",
      "golang-github-apparentlymart-textseg-12\n",
      "golang-github-playground-validator-10\n",
      "golang-grpc-go4\n",
      "klamav\n",
      "koffice-kivio\n",
      "ktechlab\n",
      "lancer\n",
      "libeXosip2\n",
      "libgnomecanvasmm26\n",
      "libosip2\n",
      "libowfat\n",
      "mingw-jsoncpp\n",
      "opari2\n",
      "openjpeg\n",
      "perl-Crypt-PWSafe3\n",
      "pesign-test-app\n",
      "php-aws-sdk3\n",
      "php-pimple\n",
      "recorder\n",
      "rubygem-bundler_ext\n",
      "rubygem-coffee-rails\n",
      "rubygem-database_cleaner\n",
      "rubygem-image_processing\n",
      "rubygem-minitest-reporters\n",
      "rubygem-sprockets-rails\n",
      "tinygo\n",
      "uom-parent\n",
      "xs\n",
      "yecht\n"
     ]
    }
   ],
   "source": [
    "print('\\n'.join(sorted(s)))"
   ]
  },
  {
   "cell_type": "code",
   "execution_count": null,
   "metadata": {},
   "outputs": [],
   "source": []
  }
 ],
 "metadata": {
  "kernelspec": {
   "display_name": "Python 3",
   "language": "python",
   "name": "python3"
  },
  "language_info": {
   "codemirror_mode": {
    "name": "ipython",
    "version": 3
   },
   "file_extension": ".py",
   "mimetype": "text/x-python",
   "name": "python",
   "nbconvert_exporter": "python",
   "pygments_lexer": "ipython3",
   "version": "3.10.2"
  }
 },
 "nbformat": 4,
 "nbformat_minor": 2
}
