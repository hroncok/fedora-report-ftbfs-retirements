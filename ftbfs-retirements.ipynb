{
 "cells": [
  {
   "cell_type": "code",
   "execution_count": 1,
   "metadata": {},
   "outputs": [],
   "source": [
    "rawhide_pkgs = !repoquery --refresh --repo=koji-source --all --latest=1 2>/dev/null"
   ]
  },
  {
   "cell_type": "code",
   "execution_count": 2,
   "metadata": {},
   "outputs": [
    {
     "data": {
      "text/plain": [
       "['0ad-0:0.0.24b-3.fc35.src',\n",
       " '0ad-data-0:0.0.24b-2.fc35.src',\n",
       " '0xFFFF-0:0.9-3.fc35.src',\n",
       " '2048-cli-0:0.9.1-12.fc35.src',\n",
       " '2ping-0:4.5-5.fc35.src']"
      ]
     },
     "execution_count": 2,
     "metadata": {},
     "output_type": "execute_result"
    }
   ],
   "source": [
    "rawhide_pkgs[:5]"
   ]
  },
  {
   "cell_type": "code",
   "execution_count": 3,
   "metadata": {},
   "outputs": [
    {
     "name": "stdout",
     "output_type": "stream",
     "text": [
      "    cardpeek-0:0.8.4-15.fc32.src\n",
      "    sugar-view-slides-0:8-21.fc31.src\n"
     ]
    }
   ],
   "source": [
    "s = set()\n",
    "\n",
    "for pkg in rawhide_pkgs:\n",
    "    nev, _, ra = pkg.rpartition('-')\n",
    "    name, _, ev = nev.rpartition('-')\n",
    "    epoch, _, version = ev.rpartition(':')\n",
    "    release, _, arch = ra.rpartition('.')\n",
    "    assert arch == 'src', pkg\n",
    "    # exceptions, https://docs.fedoraproject.org/en-US/fesco/Fails_to_build_from_source_Fails_to_install/#_packages_exempted_from_this_policy\n",
    "    if name in {'shim', 'shim-unsigned-aarch64', 'shim-unsigned-x64'}:\n",
    "        continue\n",
    "    fcpart = False\n",
    "    for part in reversed(release.split('.')):\n",
    "        if part.startswith('fc'):\n",
    "            fcpart = True\n",
    "            if part[:4] in ('fc35', 'fc34', 'fc33'):\n",
    "                break\n",
    "            else:\n",
    "                print('   ', pkg)\n",
    "                s.add(name)\n",
    "                break\n",
    "    else:\n",
    "        if not fcpart:\n",
    "            # special cases\n",
    "            if version in ('35', '34') and (name.startswith('fedora-') or name == 'generic-release'):\n",
    "                pass\n",
    "            elif name.startswith('dummy-test-package-'):\n",
    "                pass\n",
    "            else:\n",
    "                print('XXX', pkg)"
   ]
  },
  {
   "cell_type": "code",
   "execution_count": 4,
   "metadata": {},
   "outputs": [
    {
     "data": {
      "text/plain": [
       "['cardpeek', 'sugar-view-slides']"
      ]
     },
     "execution_count": 4,
     "metadata": {},
     "output_type": "execute_result"
    }
   ],
   "source": [
    "sorted(s)"
   ]
  },
  {
   "cell_type": "code",
   "execution_count": 5,
   "metadata": {},
   "outputs": [
    {
     "data": {
      "text/plain": [
       "2"
      ]
     },
     "execution_count": 5,
     "metadata": {},
     "output_type": "execute_result"
    }
   ],
   "source": [
    "len(s)"
   ]
  },
  {
   "cell_type": "code",
   "execution_count": 6,
   "metadata": {},
   "outputs": [
    {
     "name": "stdout",
     "output_type": "stream",
     "text": [
      "cardpeek sugar-view-slides\n"
     ]
    }
   ],
   "source": [
    "print(' '.join(s))"
   ]
  },
  {
   "cell_type": "code",
   "execution_count": null,
   "metadata": {},
   "outputs": [],
   "source": []
  }
 ],
 "metadata": {
  "kernelspec": {
   "display_name": "Python 3",
   "language": "python",
   "name": "python3"
  },
  "language_info": {
   "codemirror_mode": {
    "name": "ipython",
    "version": 3
   },
   "file_extension": ".py",
   "mimetype": "text/x-python",
   "name": "python",
   "nbconvert_exporter": "python",
   "pygments_lexer": "ipython3",
   "version": "3.9.6"
  }
 },
 "nbformat": 4,
 "nbformat_minor": 2
}
