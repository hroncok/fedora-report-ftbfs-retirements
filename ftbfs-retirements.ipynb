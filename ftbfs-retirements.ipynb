{
 "cells": [
  {
   "cell_type": "code",
   "execution_count": 1,
   "metadata": {},
   "outputs": [],
   "source": [
    "rawhide_pkgs = !repoquery -q --refresh --repo=koji-source --all --latest=1"
   ]
  },
  {
   "cell_type": "code",
   "execution_count": 2,
   "metadata": {},
   "outputs": [
    {
     "data": {
      "text/plain": [
       "['0ad-0:0.0.26-22.fc41.src',\n",
       " '0ad-data-0:0.0.26-8.fc41.src',\n",
       " '0install-0:2.18-1.fc41.src',\n",
       " '0xFFFF-0:0.10-8.fc41.src',\n",
       " '2048-cli-0:0.9.1-21.fc41.src']"
      ]
     },
     "execution_count": 2,
     "metadata": {},
     "output_type": "execute_result"
    }
   ],
   "source": [
    "rawhide_pkgs[:5]"
   ]
  },
  {
   "cell_type": "code",
   "execution_count": 3,
   "metadata": {},
   "outputs": [
    {
     "name": "stdout",
     "output_type": "stream",
     "text": [
      "    adwaita-blue-gtk-theme-0:3.22.21.0-11.fc38.src\n",
      "    apmd-1:3.2.2-41.fc38.src\n",
      "    aspell-no-50:0.50.1-38.fc38.src\n",
      "    biboumi-0:9.0-3.fc38.src\n",
      "    efitools-0:1.9.2-9.fc38.src\n",
      "    fonts-KOI8-R-0:1.0-36.fc38.src\n",
      "    golang-github-acme-lego-0:4.4.0-8.fc37.src\n",
      "    golang-github-ajstarks-deck-0:0-0.15.20210114git30c9fc6.fc38.src\n",
      "    golang-github-prometheus-0:2.32.1-9.fc38.src\n",
      "    golang-storj-drpc-0:0.0.31-5.fc38.src\n",
      "    grpcurl-0:1.8.7-3.fc38.src\n",
      "    gtk+extra-0:2.1.2-33.fc38.src\n",
      "    jack_capture-0:0.9.73-14.fc38.src\n",
      "    jowl-0:2.2.0-2.fc38.src\n",
      "    ksensors-0:0.7.3-51.fc38.src\n",
      "    libgsystem-0:2015.2-17.fc38.src\n",
      "    libtpcmisc-0:1.4.8-30.fc38.src\n",
      "    netbox-0:2.11.10-5.fc38.src\n",
      "    new-session-manager-0:1.3.2-8.fc38.src\n",
      "    octave-odepkg-0:0.9.1-0.21.20210827hg611.fc38.src\n",
      "    open-policy-agent-0:0.31.0-10.fc38.src\n",
      "    openstack-java-sdk-0:3.2.9-14.fc38.src\n",
      "    pesign-test-app-0:5-27.fc37.src\n",
      "    php-doctrine-doctrine-bundle-0:1.12.13-6.fc38.src\n",
      "    php-phpdocumentor-reflection1-0:1.0.7-17.fc38.src\n",
      "    php-symfony-0:2.8.52-10.fc38.src\n",
      "    php-symfony-psr-http-message-bridge-0:1.3.0-7.fc38.src\n",
      "    php-symfony3-0:3.4.49-5.fc38.src\n",
      "    postsrsd-0:1.12-3.fc38.src\n",
      "    unicornscan-0:0.4.7-32.fc38.src\n",
      "    wiki2beamer-0:0.10.0-9.fc38.src\n"
     ]
    }
   ],
   "source": [
    "s = set()\n",
    "\n",
    "for pkg in rawhide_pkgs:\n",
    "    nev, _, ra = pkg.rpartition('-')\n",
    "    name, _, ev = nev.rpartition('-')\n",
    "    epoch, _, version = ev.rpartition(':')\n",
    "    release, _, arch = ra.rpartition('.')\n",
    "    assert arch == 'src', pkg\n",
    "    # exceptions, https://docs.fedoraproject.org/en-US/fesco/Fails_to_build_from_source_Fails_to_install/#_packages_exempted_from_this_policy\n",
    "    if name in {'shim', 'shim-unsigned-aarch64', 'shim-unsigned-x64'}:\n",
    "        continue\n",
    "    # https://lists.fedoraproject.org/archives/list/devel@lists.fedoraproject.org/thread/DVVYHY2IOUBKCABUIUTP6GBFF5YGA6EY/\n",
    "    if name.startswith('java-') and name.endswith('-portable'):\n",
    "        continue\n",
    "    fcpart = False\n",
    "    for part in reversed(release.split('.')):\n",
    "        if part.startswith('fc'):\n",
    "            fcpart = True\n",
    "            if part[:4] in ('fc42', 'fc41', 'fc40', 'fc39'):\n",
    "                break\n",
    "            else:\n",
    "                print('   ', pkg)\n",
    "                s.add(name)\n",
    "                break\n",
    "    else:\n",
    "        if not fcpart:\n",
    "            # special cases\n",
    "            if version in ('42', '41', '40', '39') and (name.startswith('fedora-') or name == 'generic-release'):\n",
    "                pass\n",
    "            elif name.startswith('dummy-test-package-'):\n",
    "                pass\n",
    "            else:\n",
    "                print('XXX', pkg)"
   ]
  },
  {
   "cell_type": "code",
   "execution_count": 4,
   "metadata": {},
   "outputs": [
    {
     "data": {
      "text/plain": [
       "['adwaita-blue-gtk-theme',\n",
       " 'apmd',\n",
       " 'aspell-no',\n",
       " 'biboumi',\n",
       " 'efitools',\n",
       " 'fonts-KOI8-R',\n",
       " 'golang-github-acme-lego',\n",
       " 'golang-github-ajstarks-deck',\n",
       " 'golang-github-prometheus',\n",
       " 'golang-storj-drpc',\n",
       " 'grpcurl',\n",
       " 'gtk+extra',\n",
       " 'jack_capture',\n",
       " 'jowl',\n",
       " 'ksensors',\n",
       " 'libgsystem',\n",
       " 'libtpcmisc',\n",
       " 'netbox',\n",
       " 'new-session-manager',\n",
       " 'octave-odepkg',\n",
       " 'open-policy-agent',\n",
       " 'openstack-java-sdk',\n",
       " 'pesign-test-app',\n",
       " 'php-doctrine-doctrine-bundle',\n",
       " 'php-phpdocumentor-reflection1',\n",
       " 'php-symfony',\n",
       " 'php-symfony-psr-http-message-bridge',\n",
       " 'php-symfony3',\n",
       " 'postsrsd',\n",
       " 'unicornscan',\n",
       " 'wiki2beamer']"
      ]
     },
     "execution_count": 4,
     "metadata": {},
     "output_type": "execute_result"
    }
   ],
   "source": [
    "sorted(s)"
   ]
  },
  {
   "cell_type": "code",
   "execution_count": 5,
   "metadata": {},
   "outputs": [
    {
     "data": {
      "text/plain": [
       "31"
      ]
     },
     "execution_count": 5,
     "metadata": {},
     "output_type": "execute_result"
    }
   ],
   "source": [
    "len(s)"
   ]
  },
  {
   "cell_type": "code",
   "execution_count": 6,
   "metadata": {},
   "outputs": [
    {
     "name": "stdout",
     "output_type": "stream",
     "text": [
      "adwaita-blue-gtk-theme apmd aspell-no biboumi efitools fonts-KOI8-R golang-github-acme-lego golang-github-ajstarks-deck golang-github-prometheus golang-storj-drpc grpcurl gtk+extra jack_capture jowl ksensors libgsystem libtpcmisc netbox new-session-manager octave-odepkg open-policy-agent openstack-java-sdk pesign-test-app php-doctrine-doctrine-bundle php-phpdocumentor-reflection1 php-symfony php-symfony-psr-http-message-bridge php-symfony3 postsrsd unicornscan wiki2beamer\n"
     ]
    }
   ],
   "source": [
    "print(' '.join(sorted(s)))"
   ]
  },
  {
   "cell_type": "code",
   "execution_count": 7,
   "metadata": {},
   "outputs": [
    {
     "name": "stdout",
     "output_type": "stream",
     "text": [
      "adwaita-blue-gtk-theme\n",
      "apmd\n",
      "aspell-no\n",
      "biboumi\n",
      "efitools\n",
      "fonts-KOI8-R\n",
      "golang-github-acme-lego\n",
      "golang-github-ajstarks-deck\n",
      "golang-github-prometheus\n",
      "golang-storj-drpc\n",
      "grpcurl\n",
      "gtk+extra\n",
      "jack_capture\n",
      "jowl\n",
      "ksensors\n",
      "libgsystem\n",
      "libtpcmisc\n",
      "netbox\n",
      "new-session-manager\n",
      "octave-odepkg\n",
      "open-policy-agent\n",
      "openstack-java-sdk\n",
      "pesign-test-app\n",
      "php-doctrine-doctrine-bundle\n",
      "php-phpdocumentor-reflection1\n",
      "php-symfony\n",
      "php-symfony-psr-http-message-bridge\n",
      "php-symfony3\n",
      "postsrsd\n",
      "unicornscan\n",
      "wiki2beamer\n"
     ]
    }
   ],
   "source": [
    "print('\\n'.join(sorted(s)))"
   ]
  },
  {
   "cell_type": "code",
   "execution_count": null,
   "metadata": {},
   "outputs": [],
   "source": []
  }
 ],
 "metadata": {
  "kernelspec": {
   "display_name": "Python 3 (ipykernel)",
   "language": "python",
   "name": "python3"
  },
  "language_info": {
   "codemirror_mode": {
    "name": "ipython",
    "version": 3
   },
   "file_extension": ".py",
   "mimetype": "text/x-python",
   "name": "python",
   "nbconvert_exporter": "python",
   "pygments_lexer": "ipython3",
   "version": "3.12.4"
  }
 },
 "nbformat": 4,
 "nbformat_minor": 4
}
