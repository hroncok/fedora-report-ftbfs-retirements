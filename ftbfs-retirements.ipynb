{
 "cells": [
  {
   "cell_type": "code",
   "execution_count": 1,
   "metadata": {},
   "outputs": [],
   "source": [
    "rawhide_pkgs = !repoquery -q --refresh --repo=koji-source --all --latest=1"
   ]
  },
  {
   "cell_type": "code",
   "execution_count": 2,
   "metadata": {
    "scrolled": true
   },
   "outputs": [
    {
     "data": {
      "text/plain": [
       "['0ad-0:0.27.1-2.fc43.src',\n",
       " '0ad-data-0:0.27.1-2.fc43.src',\n",
       " '0install-0:2.18-6.fc43.src',\n",
       " '0xFFFF-0:0.10-14.fc43.src',\n",
       " '2048-cli-0:0.9.1-24.fc43.src']"
      ]
     },
     "execution_count": 2,
     "metadata": {},
     "output_type": "execute_result"
    }
   ],
   "source": [
    "rawhide_pkgs[:5]"
   ]
  },
  {
   "cell_type": "code",
   "execution_count": 3,
   "metadata": {},
   "outputs": [
    {
     "name": "stdout",
     "output_type": "stream",
     "text": [
      "\n",
      "\n",
      "\u001b7\u001b[1A\u001b[1G\u001b[27G[Files: 0  Bytes: 0  [0 B/s] Re]\u001b8\u001b7\u001b[2A\u001b[1G\u001b[27G[https://gitlab.com/fedora/sigs]\u001b8\u001b7\u001b[1S\u001b[3A\u001b[1G\u001b[0JSaving 'fesco_3447_not_exempt'\n",
      "\u001b8\u001b7\u001b[2A\u001b[1Gfesco_3447_not_exemp 100% [=============================>]   16.74K    --.-KB/s\u001b8\u001b7\u001b[1S\u001b[3A\u001b[1G\u001b[0JHTTP response 200  [https://gitlab.com/fedora/sigs/go/package-data/-/raw/main/fesco_3447_not_exempt]\n",
      "\u001b8\u001b7\u001b[2A\u001b[1Gfesco_3447_not_exemp 100% [=============================>]   16.74K    --.-KB/s\u001b8\u001b7\u001b[1A\u001b[1G\u001b[27G[Files: 1  Bytes: 16.74K [17.62]\u001b8\u001b[m\u001b[m\u001b[m\u001b[m"
     ]
    }
   ],
   "source": [
    "!wget -N https://gitlab.com/fedora/sigs/go/package-data/-/raw/main/fesco_3447_not_exempt"
   ]
  },
  {
   "cell_type": "code",
   "execution_count": 4,
   "metadata": {},
   "outputs": [],
   "source": [
    "fesco_3447_not_exempt = !cat fesco_3447_not_exempt"
   ]
  },
  {
   "cell_type": "code",
   "execution_count": 5,
   "metadata": {},
   "outputs": [
    {
     "data": {
      "text/plain": [
       "['3mux', 'OliveTin', 'act', 'aerc', 'age']"
      ]
     },
     "execution_count": 5,
     "metadata": {},
     "output_type": "execute_result"
    }
   ],
   "source": [
    "fesco_3447_not_exempt[:5]"
   ]
  },
  {
   "cell_type": "code",
   "execution_count": 6,
   "metadata": {},
   "outputs": [
    {
     "name": "stdout",
     "output_type": "stream",
     "text": [
      "    OliveTin-0:2022.11.14-8.fc40.src\n",
      "    dtkwm-0:2.0.12-22.fc40.src\n",
      "    freemarker-0:2.3.31-12.fc40.src\n",
      "    ghdl-0:3.0.0-1.20230308git7de967c.fc40.src\n",
      "    git-cinnabar-0:0.5.10-5.fc40.src\n",
      "    golang-github-intel-goresctrl-0:0.2.0-12.fc40.src\n",
      "    golang-github-jdkato-prose-1:1.2.1-9.fc40.src\n",
      "    golang-github-mesos-0:0.0.11-8.fc40.src\n",
      "    golang-github-nozzle-throttler-0:1.1-1.fc40.2.src\n",
      "    golang-github-nrdcg-porkbun-0:0.1.1-1.fc40.2.src\n",
      "    golang-github-r3labs-diff-3-0:3.0.1-1.fc40.src\n",
      "    golang-github-siddontang-rdb-0:0-0.9.20210111gitfc89ed2.fc40.src\n",
      "    golang-github-stomp-3-0:3.0.2-9.fc40.src\n",
      "    golang-github-vmware-govmomi-0:0.24.0-11.fc40.src\n",
      "    golang-gocloud-1:0.24.0-2.fc40~bootstrap.src\n",
      "    golang-k8s-kube-aggregator-0:1.22.0-11.fc40.src\n",
      "    golang-k8s-pod-security-admission-0:1.22.0-10.fc40.src\n",
      "    koffice-kivio-3:1.6.3-67.fc40.src\n",
      "    mingw-GConf2-0:3.2.6-26.fc40.src\n",
      "    minicomputer-0:1.41-37.fc40.src\n",
      "    mod_qos-0:11.74-2.fc40.src\n",
      "    netresolve-0:0.0.1-0.39.20160317git.fc40.src\n",
      "    pdfsign-0:0-8.20220206gitd266daf.fc40.src\n",
      "    php-symfony-polyfill-0:1.28.0-1.fc40.src\n",
      "    plotdrop-0:0.5.3-33.fc40.src\n",
      "    rubygem-fakefs-0:2.4.0-4.fc40.src\n",
      "    scalpel-0:2.1-0.rc2.35e1367.fc40.3.src\n",
      "    smesh-0:9.8.0.2-9.fc40.src\n"
     ]
    }
   ],
   "source": [
    "s = set()\n",
    "\n",
    "for pkg in rawhide_pkgs:\n",
    "    nev, _, ra = pkg.rpartition('-')\n",
    "    name, _, ev = nev.rpartition('-')\n",
    "    epoch, _, version = ev.rpartition(':')\n",
    "    release, _, arch = ra.rpartition('.')\n",
    "    assert arch == 'src', pkg\n",
    "    # exceptions, https://docs.fedoraproject.org/en-US/fesco/Fails_to_build_from_source_Fails_to_install/#_packages_exempted_from_this_policy\n",
    "    if name in {'shim', 'shim-unsigned-aarch64', 'shim-unsigned-x64'}:\n",
    "        continue\n",
    "    # https://lists.fedoraproject.org/archives/list/devel@lists.fedoraproject.org/thread/DVVYHY2IOUBKCABUIUTP6GBFF5YGA6EY/\n",
    "    if name.startswith('java-') and name.endswith('-portable'):\n",
    "        continue\n",
    "    # https://pagure.io/fesco/issue/3447\n",
    "    if name.startswith('golang-') and name not in fesco_3447_not_exempt:\n",
    "        continue\n",
    "    fcpart = False\n",
    "    for part in reversed(release.split('.')):\n",
    "        if part.startswith('fc'):\n",
    "            fcpart = True\n",
    "            if part[:4] in ('fc44', 'fc43', 'fc42', 'fc41'):\n",
    "                break\n",
    "            else:\n",
    "                print('   ', pkg)\n",
    "                s.add(name)\n",
    "                break\n",
    "    else:\n",
    "        if not fcpart:\n",
    "            # special cases\n",
    "            if version in ('44', '43', '42', '41') and (name.startswith('fedora-') or name == 'generic-release'):\n",
    "                pass\n",
    "            elif name.startswith('dummy-test-package-'):\n",
    "                pass\n",
    "            else:\n",
    "                print('XXX', pkg)"
   ]
  },
  {
   "cell_type": "code",
   "execution_count": 7,
   "metadata": {},
   "outputs": [
    {
     "data": {
      "text/plain": [
       "['OliveTin',\n",
       " 'dtkwm',\n",
       " 'freemarker',\n",
       " 'ghdl',\n",
       " 'git-cinnabar',\n",
       " 'golang-github-intel-goresctrl',\n",
       " 'golang-github-jdkato-prose',\n",
       " 'golang-github-mesos',\n",
       " 'golang-github-nozzle-throttler',\n",
       " 'golang-github-nrdcg-porkbun',\n",
       " 'golang-github-r3labs-diff-3',\n",
       " 'golang-github-siddontang-rdb',\n",
       " 'golang-github-stomp-3',\n",
       " 'golang-github-vmware-govmomi',\n",
       " 'golang-gocloud',\n",
       " 'golang-k8s-kube-aggregator',\n",
       " 'golang-k8s-pod-security-admission',\n",
       " 'koffice-kivio',\n",
       " 'mingw-GConf2',\n",
       " 'minicomputer',\n",
       " 'mod_qos',\n",
       " 'netresolve',\n",
       " 'pdfsign',\n",
       " 'php-symfony-polyfill',\n",
       " 'plotdrop',\n",
       " 'rubygem-fakefs',\n",
       " 'scalpel',\n",
       " 'smesh']"
      ]
     },
     "execution_count": 7,
     "metadata": {},
     "output_type": "execute_result"
    }
   ],
   "source": [
    "sorted(s)"
   ]
  },
  {
   "cell_type": "code",
   "execution_count": 8,
   "metadata": {},
   "outputs": [
    {
     "data": {
      "text/plain": [
       "28"
      ]
     },
     "execution_count": 8,
     "metadata": {},
     "output_type": "execute_result"
    }
   ],
   "source": [
    "len(s)"
   ]
  },
  {
   "cell_type": "code",
   "execution_count": 9,
   "metadata": {},
   "outputs": [
    {
     "name": "stdout",
     "output_type": "stream",
     "text": [
      "OliveTin dtkwm freemarker ghdl git-cinnabar golang-github-intel-goresctrl golang-github-jdkato-prose golang-github-mesos golang-github-nozzle-throttler golang-github-nrdcg-porkbun golang-github-r3labs-diff-3 golang-github-siddontang-rdb golang-github-stomp-3 golang-github-vmware-govmomi golang-gocloud golang-k8s-kube-aggregator golang-k8s-pod-security-admission koffice-kivio mingw-GConf2 minicomputer mod_qos netresolve pdfsign php-symfony-polyfill plotdrop rubygem-fakefs scalpel smesh\n"
     ]
    }
   ],
   "source": [
    "print(' '.join(sorted(s)))"
   ]
  },
  {
   "cell_type": "code",
   "execution_count": 10,
   "metadata": {},
   "outputs": [
    {
     "name": "stdout",
     "output_type": "stream",
     "text": [
      "OliveTin\n",
      "dtkwm\n",
      "freemarker\n",
      "ghdl\n",
      "git-cinnabar\n",
      "golang-github-intel-goresctrl\n",
      "golang-github-jdkato-prose\n",
      "golang-github-mesos\n",
      "golang-github-nozzle-throttler\n",
      "golang-github-nrdcg-porkbun\n",
      "golang-github-r3labs-diff-3\n",
      "golang-github-siddontang-rdb\n",
      "golang-github-stomp-3\n",
      "golang-github-vmware-govmomi\n",
      "golang-gocloud\n",
      "golang-k8s-kube-aggregator\n",
      "golang-k8s-pod-security-admission\n",
      "koffice-kivio\n",
      "mingw-GConf2\n",
      "minicomputer\n",
      "mod_qos\n",
      "netresolve\n",
      "pdfsign\n",
      "php-symfony-polyfill\n",
      "plotdrop\n",
      "rubygem-fakefs\n",
      "scalpel\n",
      "smesh\n"
     ]
    }
   ],
   "source": [
    "print('\\n'.join(sorted(s)))"
   ]
  },
  {
   "cell_type": "code",
   "execution_count": null,
   "metadata": {},
   "outputs": [],
   "source": []
  }
 ],
 "metadata": {
  "kernelspec": {
   "display_name": "Python 3 (ipykernel)",
   "language": "python",
   "name": "python3"
  },
  "language_info": {
   "codemirror_mode": {
    "name": "ipython",
    "version": 3
   },
   "file_extension": ".py",
   "mimetype": "text/x-python",
   "name": "python",
   "nbconvert_exporter": "python",
   "pygments_lexer": "ipython3",
   "version": "3.13.5"
  }
 },
 "nbformat": 4,
 "nbformat_minor": 4
}
