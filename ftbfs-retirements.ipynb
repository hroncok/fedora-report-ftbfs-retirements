{
 "cells": [
  {
   "cell_type": "code",
   "execution_count": 1,
   "metadata": {},
   "outputs": [],
   "source": [
    "rawhide_pkgs = !repoquery --refresh --repo=koji-source --all --latest=1 2>/dev/null"
   ]
  },
  {
   "cell_type": "code",
   "execution_count": 2,
   "metadata": {},
   "outputs": [
    {
     "data": {
      "text/plain": [
       "['0ad-0:0.0.25b-2.fc36.src',\n",
       " '0ad-data-0:0.0.25b-4.fc37.src',\n",
       " '0xFFFF-0:0.9-4.fc36.src',\n",
       " '2048-cli-0:0.9.1-14.fc37.src',\n",
       " '2ping-0:4.5.1-4.fc37.src']"
      ]
     },
     "execution_count": 2,
     "metadata": {},
     "output_type": "execute_result"
    }
   ],
   "source": [
    "rawhide_pkgs[:5]"
   ]
  },
  {
   "cell_type": "code",
   "execution_count": 3,
   "metadata": {},
   "outputs": [
    {
     "name": "stdout",
     "output_type": "stream",
     "text": [
      "    golang-grpc-go4-0:0-0.9.20180421git11d0a25.fc34.src\n",
      "    lancer-0:0.0.2-14.fc34.src\n",
      "    php-aws-sdk3-0:3.152.0-2.fc34.src\n",
      "    php-pimple-0:3.2.3-7.fc34.src\n",
      "    recorder-0:1.1.0-1.fc34.src\n",
      "    rubygem-coffee-rails-0:5.0.0-1.fc34.src\n",
      "    rubygem-minitest-reporters-0:1.4.2-4.fc34.src\n",
      "    tinygo-0:0.16.0-3.fc34.src\n",
      "    uom-parent-0:1.0.3-10.fc34.src\n",
      "    xs-0:1.2-3.git9592d9b.fc34.src\n"
     ]
    }
   ],
   "source": [
    "s = set()\n",
    "\n",
    "for pkg in rawhide_pkgs:\n",
    "    nev, _, ra = pkg.rpartition('-')\n",
    "    name, _, ev = nev.rpartition('-')\n",
    "    epoch, _, version = ev.rpartition(':')\n",
    "    release, _, arch = ra.rpartition('.')\n",
    "    assert arch == 'src', pkg\n",
    "    # exceptions, https://docs.fedoraproject.org/en-US/fesco/Fails_to_build_from_source_Fails_to_install/#_packages_exempted_from_this_policy\n",
    "    if name in {'shim', 'shim-unsigned-aarch64', 'shim-unsigned-x64'}:\n",
    "        continue\n",
    "    fcpart = False\n",
    "    for part in reversed(release.split('.')):\n",
    "        if part.startswith('fc'):\n",
    "            fcpart = True\n",
    "            if part[:4] in ('fc37', 'fc36', 'fc35'):\n",
    "                break\n",
    "            else:\n",
    "                print('   ', pkg)\n",
    "                s.add(name)\n",
    "                break\n",
    "    else:\n",
    "        if not fcpart:\n",
    "            # special cases\n",
    "            if version in ('37', '36',) and (name.startswith('fedora-') or name == 'generic-release'):\n",
    "                pass\n",
    "            elif name.startswith('dummy-test-package-'):\n",
    "                pass\n",
    "            else:\n",
    "                print('XXX', pkg)"
   ]
  },
  {
   "cell_type": "code",
   "execution_count": 4,
   "metadata": {},
   "outputs": [
    {
     "data": {
      "text/plain": [
       "['golang-grpc-go4',\n",
       " 'lancer',\n",
       " 'php-aws-sdk3',\n",
       " 'php-pimple',\n",
       " 'recorder',\n",
       " 'rubygem-coffee-rails',\n",
       " 'rubygem-minitest-reporters',\n",
       " 'tinygo',\n",
       " 'uom-parent',\n",
       " 'xs']"
      ]
     },
     "execution_count": 4,
     "metadata": {},
     "output_type": "execute_result"
    }
   ],
   "source": [
    "sorted(s)"
   ]
  },
  {
   "cell_type": "code",
   "execution_count": 5,
   "metadata": {},
   "outputs": [
    {
     "data": {
      "text/plain": [
       "10"
      ]
     },
     "execution_count": 5,
     "metadata": {},
     "output_type": "execute_result"
    }
   ],
   "source": [
    "len(s)"
   ]
  },
  {
   "cell_type": "code",
   "execution_count": 6,
   "metadata": {},
   "outputs": [
    {
     "name": "stdout",
     "output_type": "stream",
     "text": [
      "golang-grpc-go4 lancer php-aws-sdk3 php-pimple recorder rubygem-coffee-rails rubygem-minitest-reporters tinygo uom-parent xs\n"
     ]
    }
   ],
   "source": [
    "print(' '.join(sorted(s)))"
   ]
  },
  {
   "cell_type": "code",
   "execution_count": 7,
   "metadata": {},
   "outputs": [
    {
     "name": "stdout",
     "output_type": "stream",
     "text": [
      "golang-grpc-go4\n",
      "lancer\n",
      "php-aws-sdk3\n",
      "php-pimple\n",
      "recorder\n",
      "rubygem-coffee-rails\n",
      "rubygem-minitest-reporters\n",
      "tinygo\n",
      "uom-parent\n",
      "xs\n"
     ]
    }
   ],
   "source": [
    "print('\\n'.join(sorted(s)))"
   ]
  },
  {
   "cell_type": "code",
   "execution_count": null,
   "metadata": {},
   "outputs": [],
   "source": []
  }
 ],
 "metadata": {
  "kernelspec": {
   "display_name": "Python 3",
   "language": "python",
   "name": "python3"
  },
  "language_info": {
   "codemirror_mode": {
    "name": "ipython",
    "version": 3
   },
   "file_extension": ".py",
   "mimetype": "text/x-python",
   "name": "python",
   "nbconvert_exporter": "python",
   "pygments_lexer": "ipython3",
   "version": "3.10.5"
  }
 },
 "nbformat": 4,
 "nbformat_minor": 2
}
