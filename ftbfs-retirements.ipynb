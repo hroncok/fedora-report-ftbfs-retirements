{
 "cells": [
  {
   "cell_type": "code",
   "execution_count": 1,
   "metadata": {},
   "outputs": [],
   "source": [
    "rawhide_pkgs = !repoquery --refresh --repo=koji-source --all --latest=1 2>/dev/null"
   ]
  },
  {
   "cell_type": "code",
   "execution_count": 2,
   "metadata": {},
   "outputs": [
    {
     "data": {
      "text/plain": [
       "['0ad-0:0.0.23b-21.fc33.src',\n",
       " '0ad-data-0:0.0.23b-5.fc33.src',\n",
       " '0xFFFF-0:0.8-4.fc33.src',\n",
       " '2048-cli-0:0.9.1-10.fc33.src',\n",
       " '2ping-0:4.5-2.fc33.src']"
      ]
     },
     "execution_count": 2,
     "metadata": {},
     "output_type": "execute_result"
    }
   ],
   "source": [
    "rawhide_pkgs[:5]"
   ]
  },
  {
   "cell_type": "code",
   "execution_count": 3,
   "metadata": {},
   "outputs": [
    {
     "name": "stdout",
     "output_type": "stream",
     "text": [
      "    VirtualGL-0:2.5.2-4.fc31.src\n",
      "    boo-0:0.9.7.0-13.fc31.src\n",
      "    gmpc-0:11.8.16-21.fc31.src\n",
      "    jboss-servlet-2.5-api-0:1.0.1-18.fc31.src\n",
      "    js-html5shiv-0:3.7.3-5.fc31.src\n",
      "    js-respond-0:1.4.2-5.fc31.src\n",
      "    nodejs-info-symbol-0:0.1.0-5.fc31.src\n",
      "    nodejs-interpret-0:1.0.1-7.fc31.src\n",
      "    nodejs-net-browserify-alt-0:1.1.0-6.fc31.src\n",
      "    nodejs-win-spawn-0:2.0.0-7.fc31.src\n",
      "    rubygem-net-ssh-multi-0:1.2.1-5.fc31.src\n",
      "    sugar-flipsticks-0:13-14.fc31.src\n",
      "    sugar-getiabooks-0:18.2-2.fc31.src\n",
      "    sugar-infoslicer-0:25-7.fc31.src\n",
      "    sugar-labyrinth-0:16-12.fc31.src\n",
      "    sugar-ruler-0:33-13.fc31.src\n",
      "    sugar-starchart-0:16-12.fc31.src\n",
      "    sugar-view-slides-0:8-21.fc31.src\n",
      "    sugar-visualmatch-0:49-12.fc31.src\n",
      "    sugar-yupana-0:17-11.fc31.src\n"
     ]
    }
   ],
   "source": [
    "s = set()\n",
    "\n",
    "for pkg in rawhide_pkgs:\n",
    "    nev, _, ra = pkg.rpartition('-')\n",
    "    name, _, ev = nev.rpartition('-')\n",
    "    epoch, _, version = ev.rpartition(':')\n",
    "    release, _, arch = ra.rpartition('.')\n",
    "    assert arch == 'src', pkg\n",
    "    # exceptions, https://docs.fedoraproject.org/en-US/fesco/Fails_to_build_from_source_Fails_to_install/#_packages_exempted_from_this_policy\n",
    "    if name in {'shim', 'shim-unsigned-aarch64', 'shim-unsigned-x64'}:\n",
    "        continue\n",
    "    fcpart = False\n",
    "    for part in reversed(release.split('.')):\n",
    "        if part.startswith('fc'):\n",
    "            fcpart = True\n",
    "            if part[:4] in ('fc34', 'fc33', 'fc32'):\n",
    "                break\n",
    "            else:\n",
    "                print('   ', pkg)\n",
    "                s.add(name)\n",
    "                break\n",
    "    else:\n",
    "        if not fcpart:\n",
    "            # special cases\n",
    "            if version in ('34', '33') and (name.startswith('fedora-') or name == 'generic-release'):\n",
    "                pass\n",
    "            elif name.startswith('dummy-test-package-'):\n",
    "                pass\n",
    "            else:\n",
    "                print('XXX', pkg)"
   ]
  },
  {
   "cell_type": "code",
   "execution_count": 4,
   "metadata": {},
   "outputs": [
    {
     "data": {
      "text/plain": [
       "['VirtualGL',\n",
       " 'boo',\n",
       " 'gmpc',\n",
       " 'jboss-servlet-2.5-api',\n",
       " 'js-html5shiv',\n",
       " 'js-respond',\n",
       " 'nodejs-info-symbol',\n",
       " 'nodejs-interpret',\n",
       " 'nodejs-net-browserify-alt',\n",
       " 'nodejs-win-spawn',\n",
       " 'rubygem-net-ssh-multi',\n",
       " 'sugar-flipsticks',\n",
       " 'sugar-getiabooks',\n",
       " 'sugar-infoslicer',\n",
       " 'sugar-labyrinth',\n",
       " 'sugar-ruler',\n",
       " 'sugar-starchart',\n",
       " 'sugar-view-slides',\n",
       " 'sugar-visualmatch',\n",
       " 'sugar-yupana']"
      ]
     },
     "execution_count": 4,
     "metadata": {},
     "output_type": "execute_result"
    }
   ],
   "source": [
    "sorted(s)"
   ]
  },
  {
   "cell_type": "code",
   "execution_count": 5,
   "metadata": {},
   "outputs": [
    {
     "data": {
      "text/plain": [
       "20"
      ]
     },
     "execution_count": 5,
     "metadata": {},
     "output_type": "execute_result"
    }
   ],
   "source": [
    "len(s)"
   ]
  },
  {
   "cell_type": "code",
   "execution_count": 6,
   "metadata": {},
   "outputs": [
    {
     "name": "stdout",
     "output_type": "stream",
     "text": [
      "boo js-html5shiv nodejs-info-symbol sugar-getiabooks nodejs-net-browserify-alt sugar-starchart sugar-labyrinth sugar-flipsticks sugar-ruler gmpc sugar-visualmatch nodejs-interpret sugar-view-slides sugar-infoslicer rubygem-net-ssh-multi jboss-servlet-2.5-api sugar-yupana VirtualGL nodejs-win-spawn js-respond\n"
     ]
    }
   ],
   "source": [
    "print(' '.join(s))"
   ]
  },
  {
   "cell_type": "code",
   "execution_count": null,
   "metadata": {},
   "outputs": [],
   "source": []
  }
 ],
 "metadata": {
  "kernelspec": {
   "display_name": "Python 3",
   "language": "python",
   "name": "python3"
  },
  "language_info": {
   "codemirror_mode": {
    "name": "ipython",
    "version": 3
   },
   "file_extension": ".py",
   "mimetype": "text/x-python",
   "name": "python",
   "nbconvert_exporter": "python",
   "pygments_lexer": "ipython3",
   "version": "3.8.6"
  }
 },
 "nbformat": 4,
 "nbformat_minor": 2
}
