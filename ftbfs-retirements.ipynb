{
 "cells": [
  {
   "cell_type": "code",
   "execution_count": 1,
   "metadata": {},
   "outputs": [],
   "source": [
    "rawhide_pkgs = !repoquery --refresh --repo=koji-source --all --latest=1 2>/dev/null"
   ]
  },
  {
   "cell_type": "code",
   "execution_count": 2,
   "metadata": {},
   "outputs": [
    {
     "data": {
      "text/plain": [
       "['0ad-0:0.0.25b-2.fc36.src',\n",
       " '0ad-data-0:0.0.25b-3.fc36.src',\n",
       " '0xFFFF-0:0.9-4.fc36.src',\n",
       " '2048-cli-0:0.9.1-13.fc36.src',\n",
       " '2ping-0:4.5.1-2.fc36.src']"
      ]
     },
     "execution_count": 2,
     "metadata": {},
     "output_type": "execute_result"
    }
   ],
   "source": [
    "rawhide_pkgs[:5]"
   ]
  },
  {
   "cell_type": "code",
   "execution_count": 3,
   "metadata": {},
   "outputs": [
    {
     "name": "stdout",
     "output_type": "stream",
     "text": [
      "    adf-tribun-fonts-0:1.17-5.fc33.src\n",
      "    catharsis-cormorant-fonts-0:3.602-4.20200316git83d1fa9.fc33.src\n",
      "    ecolier-court-fonts-0:20070702-33.fc33.src\n",
      "    gfs-ambrosia-fonts-0:20080624-27.fc33.src\n",
      "    gfs-artemisia-fonts-0:20070415-33.fc33.src\n",
      "    gfs-baskerville-fonts-0:20070327-34.fc33.src\n",
      "    gfs-bodoni-classic-fonts-0:20070415-33.fc33.src\n",
      "    gfs-bodoni-fonts-0:20070415-32.fc33.src\n",
      "    gfs-complutum-fonts-0:20070413-34.fc33.src\n",
      "    gfs-decker-fonts-0:20090618-24.fc33.src\n",
      "    gfs-didot-classic-fonts-0:20080702-28.fc33.src\n",
      "    gfs-didot-display-fonts-0:20160225-4.fc33.src\n",
      "    gfs-didot-fonts-0:20070616-33.fc33.src\n",
      "    gfs-eustace-fonts-0:20080303-27.fc33.src\n",
      "    gfs-fleischman-fonts-0:20080303-27.fc33.src\n",
      "    gfs-galatea-fonts-0:20191205-4.fc33.src\n",
      "    gfs-garaldus-fonts-0:20080707-27.fc33.src\n",
      "    gfs-gazis-fonts-0:20091008-21.fc33.src\n",
      "    gfs-goschen-fonts-0:20100203-21.fc33.src\n",
      "    gfs-ignacio-fonts-0:20090923-22.fc33.src\n",
      "    gfs-jackson-fonts-0:20080303-26.fc33.src\n",
      "    gfs-neohellenic-fonts-0:20090918-22.fc33.src\n",
      "    gfs-neohellenic-math-fonts-0:20180227-4.fc33.src\n",
      "    gfs-nicefore-fonts-0:20080303-27.fc33.src\n",
      "    gfs-olga-fonts-0:20160509-5.fc33.src\n",
      "    gfs-orpheus-classic-fonts-0:20161102-4.fc33.src\n",
      "    gfs-orpheus-fonts-0:20161102-4.fc33.src\n",
      "    gfs-orpheus-sans-fonts-0:20161102-4.fc33.src\n",
      "    gfs-philostratos-fonts-0:20090902-22.fc33.src\n",
      "    gfs-porson-fonts-0:20060908-32.fc33.src\n",
      "    gfs-pyrsos-fonts-0:20090618-23.fc33.src\n",
      "    gfs-solomos-fonts-0:20071114-32.fc33.src\n",
      "    gfs-theokritos-fonts-0:20070415-36.fc33.src\n",
      "    ht-alegreya-sans-fonts-0:2.008-7.fc33.src\n",
      "    impallari-dancing-script-fonts-0:2.000-8.20200226gitf7f54bc.fc33.src\n",
      "    intel-clear-sans-fonts-0:1.00-6.fc33.src\n",
      "    jetbrains-mono-fonts-0:1.0.4-5.fc33.src\n",
      "    kemie-bellota-fonts-0:4.1-3.fc33.src\n",
      "    libicu65-0:65.1-1.fc33.src\n",
      "    ndiscover-exo-2-fonts-0:1.100-3.20200316git55728cf.fc33.src\n",
      "    rubygem-cucumber-rails-0:1.8.0-5.fc33.src\n",
      "    rubygem-selenium-webdriver-0:3.142.7-3.fc33.src\n",
      "    rubygem-sup-0:1.0-2.fc33.src\n",
      "    sil-alkalami-fonts-0:1.200-6.fc33.src\n",
      "    sil-andika-compact-fonts-0:5.000-5.fc33.src\n",
      "    sil-andika-fonts-0:5.000-5.fc33.src\n",
      "    sil-andika-new-basic-fonts-0:5.500-4.fc33.src\n",
      "    sil-annapurna-fonts-0:1.204-6.fc33.src\n",
      "    sil-apparatus-fonts-0:1.0-5.fc33.src\n",
      "    sil-awami-nastaliq-fonts-0:2.000-4.fc33.src\n",
      "    sil-charis-compact-fonts-0:5.000-4.fc33.src\n",
      "    sil-dai-banna-fonts-0:2.200-5.fc33.src\n",
      "    sil-ezra-fonts-0:2.51-4.fc33.src\n",
      "    sil-gentium-plus-compact-fonts-0:5.000-5.fc33.src\n",
      "    sil-harmattan-fonts-0:1.001-4.fc33.src\n",
      "    sil-mondulkiri-extra-fonts-0:5.300-6.fc33.src\n",
      "    sil-mondulkiri-fonts-0:7.100-5.fc33.src\n",
      "    sil-namdhinggo-fonts-0:1.004-5.fc33.src\n",
      "    sil-shimenkan-fonts-0:1.000-5.fc33.src\n",
      "    sil-sophia-nubian-fonts-0:1.0-5.fc33.src\n",
      "    sil-tagmukay-fonts-0:2.000-6.fc33.src\n",
      "    sil-tai-heritage-pro-fonts-0:2.600-6.fc33.src\n",
      "    symbian-m-yuppy-gb-fonts-0:1.00-5.fc33.src\n",
      "    tmux-top-0:0.0.4-7.fc33.src\n",
      "    typesetit-great-vibes-fonts-0:1.101-4.20200316gita82e16d.fc33.src\n",
      "    uswds-public-sans-fonts-0:1.008-5.fc33.src\n",
      "    vernnobile-muli-fonts-0:2.001-6.20200225git580b05e.fc33.src\n",
      "    vernnobile-nunito-fonts-0:3.504-6.20200225git6d8a4e1.fc33.src\n",
      "    vernnobile-oswald-fonts-0:4.101-8.20200225git5a5fff2.fc33.src\n",
      "    wagesreiter-patrick-hand-fonts-0:20200215-5.fc33.src\n",
      "    weiweihuanghuang-work-sans-fonts-0:2.07-9.20200226gitdcd044c.fc33.src\n",
      "    yanone-kaffeesatz-fonts-1:2.001-6.20200221git1da4935.fc33.src\n"
     ]
    }
   ],
   "source": [
    "s = set()\n",
    "\n",
    "for pkg in rawhide_pkgs:\n",
    "    nev, _, ra = pkg.rpartition('-')\n",
    "    name, _, ev = nev.rpartition('-')\n",
    "    epoch, _, version = ev.rpartition(':')\n",
    "    release, _, arch = ra.rpartition('.')\n",
    "    assert arch == 'src', pkg\n",
    "    # exceptions, https://docs.fedoraproject.org/en-US/fesco/Fails_to_build_from_source_Fails_to_install/#_packages_exempted_from_this_policy\n",
    "    if name in {'shim', 'shim-unsigned-aarch64', 'shim-unsigned-x64'}:\n",
    "        continue\n",
    "    fcpart = False\n",
    "    for part in reversed(release.split('.')):\n",
    "        if part.startswith('fc'):\n",
    "            fcpart = True\n",
    "            if part[:4] in ('fc37', 'fc36', 'fc35', 'fc34'):\n",
    "                break\n",
    "            else:\n",
    "                print('   ', pkg)\n",
    "                s.add(name)\n",
    "                break\n",
    "    else:\n",
    "        if not fcpart:\n",
    "            # special cases\n",
    "            if version in ('37', '36',) and (name.startswith('fedora-') or name == 'generic-release'):\n",
    "                pass\n",
    "            elif name.startswith('dummy-test-package-'):\n",
    "                pass\n",
    "            else:\n",
    "                print('XXX', pkg)"
   ]
  },
  {
   "cell_type": "code",
   "execution_count": 4,
   "metadata": {},
   "outputs": [
    {
     "data": {
      "text/plain": [
       "['adf-tribun-fonts',\n",
       " 'catharsis-cormorant-fonts',\n",
       " 'ecolier-court-fonts',\n",
       " 'gfs-ambrosia-fonts',\n",
       " 'gfs-artemisia-fonts',\n",
       " 'gfs-baskerville-fonts',\n",
       " 'gfs-bodoni-classic-fonts',\n",
       " 'gfs-bodoni-fonts',\n",
       " 'gfs-complutum-fonts',\n",
       " 'gfs-decker-fonts',\n",
       " 'gfs-didot-classic-fonts',\n",
       " 'gfs-didot-display-fonts',\n",
       " 'gfs-didot-fonts',\n",
       " 'gfs-eustace-fonts',\n",
       " 'gfs-fleischman-fonts',\n",
       " 'gfs-galatea-fonts',\n",
       " 'gfs-garaldus-fonts',\n",
       " 'gfs-gazis-fonts',\n",
       " 'gfs-goschen-fonts',\n",
       " 'gfs-ignacio-fonts',\n",
       " 'gfs-jackson-fonts',\n",
       " 'gfs-neohellenic-fonts',\n",
       " 'gfs-neohellenic-math-fonts',\n",
       " 'gfs-nicefore-fonts',\n",
       " 'gfs-olga-fonts',\n",
       " 'gfs-orpheus-classic-fonts',\n",
       " 'gfs-orpheus-fonts',\n",
       " 'gfs-orpheus-sans-fonts',\n",
       " 'gfs-philostratos-fonts',\n",
       " 'gfs-porson-fonts',\n",
       " 'gfs-pyrsos-fonts',\n",
       " 'gfs-solomos-fonts',\n",
       " 'gfs-theokritos-fonts',\n",
       " 'ht-alegreya-sans-fonts',\n",
       " 'impallari-dancing-script-fonts',\n",
       " 'intel-clear-sans-fonts',\n",
       " 'jetbrains-mono-fonts',\n",
       " 'kemie-bellota-fonts',\n",
       " 'libicu65',\n",
       " 'ndiscover-exo-2-fonts',\n",
       " 'rubygem-cucumber-rails',\n",
       " 'rubygem-selenium-webdriver',\n",
       " 'rubygem-sup',\n",
       " 'sil-alkalami-fonts',\n",
       " 'sil-andika-compact-fonts',\n",
       " 'sil-andika-fonts',\n",
       " 'sil-andika-new-basic-fonts',\n",
       " 'sil-annapurna-fonts',\n",
       " 'sil-apparatus-fonts',\n",
       " 'sil-awami-nastaliq-fonts',\n",
       " 'sil-charis-compact-fonts',\n",
       " 'sil-dai-banna-fonts',\n",
       " 'sil-ezra-fonts',\n",
       " 'sil-gentium-plus-compact-fonts',\n",
       " 'sil-harmattan-fonts',\n",
       " 'sil-mondulkiri-extra-fonts',\n",
       " 'sil-mondulkiri-fonts',\n",
       " 'sil-namdhinggo-fonts',\n",
       " 'sil-shimenkan-fonts',\n",
       " 'sil-sophia-nubian-fonts',\n",
       " 'sil-tagmukay-fonts',\n",
       " 'sil-tai-heritage-pro-fonts',\n",
       " 'symbian-m-yuppy-gb-fonts',\n",
       " 'tmux-top',\n",
       " 'typesetit-great-vibes-fonts',\n",
       " 'uswds-public-sans-fonts',\n",
       " 'vernnobile-muli-fonts',\n",
       " 'vernnobile-nunito-fonts',\n",
       " 'vernnobile-oswald-fonts',\n",
       " 'wagesreiter-patrick-hand-fonts',\n",
       " 'weiweihuanghuang-work-sans-fonts',\n",
       " 'yanone-kaffeesatz-fonts']"
      ]
     },
     "execution_count": 4,
     "metadata": {},
     "output_type": "execute_result"
    }
   ],
   "source": [
    "sorted(s)"
   ]
  },
  {
   "cell_type": "code",
   "execution_count": 5,
   "metadata": {},
   "outputs": [
    {
     "data": {
      "text/plain": [
       "72"
      ]
     },
     "execution_count": 5,
     "metadata": {},
     "output_type": "execute_result"
    }
   ],
   "source": [
    "len(s)"
   ]
  },
  {
   "cell_type": "code",
   "execution_count": 6,
   "metadata": {},
   "outputs": [
    {
     "name": "stdout",
     "output_type": "stream",
     "text": [
      "gfs-nicefore-fonts gfs-orpheus-classic-fonts gfs-neohellenic-math-fonts ndiscover-exo-2-fonts weiweihuanghuang-work-sans-fonts catharsis-cormorant-fonts sil-tai-heritage-pro-fonts rubygem-selenium-webdriver gfs-galatea-fonts tmux-top sil-mondulkiri-extra-fonts gfs-solomos-fonts wagesreiter-patrick-hand-fonts jetbrains-mono-fonts gfs-complutum-fonts sil-dai-banna-fonts gfs-ambrosia-fonts sil-sophia-nubian-fonts gfs-neohellenic-fonts sil-alkalami-fonts vernnobile-nunito-fonts gfs-didot-display-fonts gfs-didot-classic-fonts sil-andika-fonts sil-annapurna-fonts sil-namdhinggo-fonts gfs-baskerville-fonts gfs-olga-fonts libicu65 vernnobile-oswald-fonts sil-gentium-plus-compact-fonts gfs-goschen-fonts uswds-public-sans-fonts gfs-porson-fonts sil-charis-compact-fonts gfs-orpheus-fonts gfs-garaldus-fonts ht-alegreya-sans-fonts intel-clear-sans-fonts sil-andika-compact-fonts sil-tagmukay-fonts sil-apparatus-fonts typesetit-great-vibes-fonts symbian-m-yuppy-gb-fonts adf-tribun-fonts yanone-kaffeesatz-fonts gfs-jackson-fonts impallari-dancing-script-fonts rubygem-sup gfs-theokritos-fonts gfs-bodoni-classic-fonts sil-harmattan-fonts gfs-fleischman-fonts sil-mondulkiri-fonts gfs-orpheus-sans-fonts gfs-decker-fonts sil-shimenkan-fonts gfs-pyrsos-fonts gfs-gazis-fonts sil-andika-new-basic-fonts gfs-didot-fonts sil-awami-nastaliq-fonts gfs-eustace-fonts gfs-ignacio-fonts sil-ezra-fonts kemie-bellota-fonts gfs-artemisia-fonts vernnobile-muli-fonts ecolier-court-fonts rubygem-cucumber-rails gfs-bodoni-fonts gfs-philostratos-fonts\n"
     ]
    }
   ],
   "source": [
    "print(' '.join(s))"
   ]
  },
  {
   "cell_type": "code",
   "execution_count": null,
   "metadata": {},
   "outputs": [],
   "source": []
  }
 ],
 "metadata": {
  "kernelspec": {
   "display_name": "Python 3",
   "language": "python",
   "name": "python3"
  },
  "language_info": {
   "codemirror_mode": {
    "name": "ipython",
    "version": 3
   },
   "file_extension": ".py",
   "mimetype": "text/x-python",
   "name": "python",
   "nbconvert_exporter": "python",
   "pygments_lexer": "ipython3",
   "version": "3.10.2"
  }
 },
 "nbformat": 4,
 "nbformat_minor": 2
}
