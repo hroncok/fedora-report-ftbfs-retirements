{
 "cells": [
  {
   "cell_type": "code",
   "execution_count": 1,
   "metadata": {},
   "outputs": [],
   "source": [
    "rawhide_pkgs = !repoquery --refresh --repo=koji-source --all --latest=1 2>/dev/null"
   ]
  },
  {
   "cell_type": "code",
   "execution_count": 2,
   "metadata": {},
   "outputs": [
    {
     "data": {
      "text/plain": [
       "['0ad-0:0.0.26-20.fc40.src',\n",
       " '0ad-data-0:0.0.26-7.fc40.src',\n",
       " '0xFFFF-0:0.10-7.fc40.src',\n",
       " '2048-cli-0:0.9.1-20.fc40.src',\n",
       " '2ping-0:4.5.1-11.fc40.src']"
      ]
     },
     "execution_count": 2,
     "metadata": {},
     "output_type": "execute_result"
    }
   ],
   "source": [
    "rawhide_pkgs[:5]"
   ]
  },
  {
   "cell_type": "code",
   "execution_count": 3,
   "metadata": {},
   "outputs": [
    {
     "name": "stdout",
     "output_type": "stream",
     "text": [
      "    calendar-0:1.37-7.20211220cvs.fc37.src\n",
      "    erlang-jose-0:1.10.1-8.fc37.src\n",
      "    ghdl-0:0.38~dev-16.20201208git83dfd49.fc37.src\n",
      "    git-secrets-0:1.3.0-7.fc37.src\n",
      "    golang-github-acme-lego-0:4.4.0-8.fc37.src\n",
      "    golang-github-gatherstars-com-jwz-0:1.3.0-1.fc37.src\n",
      "    golang-github-genuinetools-pkg-0:0-0.3.20210920git2fcf164.fc37.src\n",
      "    golang-github-gobs-pretty-0:0-0.1.20210803git09732c2.fc37.src\n",
      "    golang-github-jhillyerd-enmime-0:0.9.3-2.fc37.src\n",
      "    golang-github-pierrre-compare-0:1.0.2-4.fc37.src\n",
      "    golang-github-smartystreets-goconvey-0:1.6.4-5.fc37.src\n",
      "    golang-gopkg-square-jose-2-0:2.6.0-5.fc37.src\n",
      "    golang-gvisor-0:20211129.0-2.20211217git9bd5098.fc36.src\n",
      "    golang-opentelemetry-otel-0.20-0:0.20.0-3.fc37.src\n",
      "    golang-sigs-k8s-kustomize-0:4.0.3-2.fc36.src\n",
      "    golang-vitess-0:11.0.1-1.fc36.src\n",
      "    infinipath-psm-0:3.3-26_g604758e_open.6.fc37.6.src\n",
      "    j4-dmenu-desktop-0:2.18-7.fc37.src\n",
      "    jackson-dataformats-binary-0:2.9.8-11.fc37.src\n",
      "    jackson-dataformats-text-0:2.9.8-11.fc37.src\n",
      "    java-1.8.0-openjdk-aarch32-1:1.8.0.322.b06-1.fc37.src\n",
      "    jreen-0:1.2.1-22.fc37.src\n",
      "    libdeltacloud-0:0.9-27.fc37.src\n",
      "    mingw-clucene-0:2.3.3.4-29.fc37.src\n",
      "    mingw-speexdsp-0:1.2.0-8.fc37.src\n",
      "    nbd-runner-0:0.5.3-11.fc37.src\n",
      "    nodejs-generic-pool-0:2.2.2-5.fc37.src\n",
      "    ofono-0:1.34-2.fc37.src\n",
      "    pesign-test-app-0:5-27.fc37.src\n",
      "    pthsem-0:2.0.7-25.fc37.src\n",
      "    rust-drg-0:0.5.1-6.fc37.src\n"
     ]
    }
   ],
   "source": [
    "s = set()\n",
    "\n",
    "for pkg in rawhide_pkgs:\n",
    "    nev, _, ra = pkg.rpartition('-')\n",
    "    name, _, ev = nev.rpartition('-')\n",
    "    epoch, _, version = ev.rpartition(':')\n",
    "    release, _, arch = ra.rpartition('.')\n",
    "    assert arch == 'src', pkg\n",
    "    # exceptions, https://docs.fedoraproject.org/en-US/fesco/Fails_to_build_from_source_Fails_to_install/#_packages_exempted_from_this_policy\n",
    "    if name in {'shim', 'shim-unsigned-aarch64', 'shim-unsigned-x64'}:\n",
    "        continue\n",
    "    fcpart = False\n",
    "    for part in reversed(release.split('.')):\n",
    "        if part.startswith('fc'):\n",
    "            fcpart = True\n",
    "            if part[:4] in ('fc41', 'fc40', 'fc39', 'fc38'):\n",
    "                break\n",
    "            else:\n",
    "                print('   ', pkg)\n",
    "                s.add(name)\n",
    "                break\n",
    "    else:\n",
    "        if not fcpart:\n",
    "            # special cases\n",
    "            if version in ('41', '40', '39', '38') and (name.startswith('fedora-') or name == 'generic-release'):\n",
    "                pass\n",
    "            elif name.startswith('dummy-test-package-'):\n",
    "                pass\n",
    "            else:\n",
    "                print('XXX', pkg)"
   ]
  },
  {
   "cell_type": "code",
   "execution_count": 4,
   "metadata": {},
   "outputs": [
    {
     "data": {
      "text/plain": [
       "['calendar',\n",
       " 'erlang-jose',\n",
       " 'ghdl',\n",
       " 'git-secrets',\n",
       " 'golang-github-acme-lego',\n",
       " 'golang-github-gatherstars-com-jwz',\n",
       " 'golang-github-genuinetools-pkg',\n",
       " 'golang-github-gobs-pretty',\n",
       " 'golang-github-jhillyerd-enmime',\n",
       " 'golang-github-pierrre-compare',\n",
       " 'golang-github-smartystreets-goconvey',\n",
       " 'golang-gopkg-square-jose-2',\n",
       " 'golang-gvisor',\n",
       " 'golang-opentelemetry-otel-0.20',\n",
       " 'golang-sigs-k8s-kustomize',\n",
       " 'golang-vitess',\n",
       " 'infinipath-psm',\n",
       " 'j4-dmenu-desktop',\n",
       " 'jackson-dataformats-binary',\n",
       " 'jackson-dataformats-text',\n",
       " 'java-1.8.0-openjdk-aarch32',\n",
       " 'jreen',\n",
       " 'libdeltacloud',\n",
       " 'mingw-clucene',\n",
       " 'mingw-speexdsp',\n",
       " 'nbd-runner',\n",
       " 'nodejs-generic-pool',\n",
       " 'ofono',\n",
       " 'pesign-test-app',\n",
       " 'pthsem',\n",
       " 'rust-drg']"
      ]
     },
     "execution_count": 4,
     "metadata": {},
     "output_type": "execute_result"
    }
   ],
   "source": [
    "sorted(s)"
   ]
  },
  {
   "cell_type": "code",
   "execution_count": 5,
   "metadata": {},
   "outputs": [
    {
     "data": {
      "text/plain": [
       "31"
      ]
     },
     "execution_count": 5,
     "metadata": {},
     "output_type": "execute_result"
    }
   ],
   "source": [
    "len(s)"
   ]
  },
  {
   "cell_type": "code",
   "execution_count": 6,
   "metadata": {},
   "outputs": [
    {
     "name": "stdout",
     "output_type": "stream",
     "text": [
      "calendar erlang-jose ghdl git-secrets golang-github-acme-lego golang-github-gatherstars-com-jwz golang-github-genuinetools-pkg golang-github-gobs-pretty golang-github-jhillyerd-enmime golang-github-pierrre-compare golang-github-smartystreets-goconvey golang-gopkg-square-jose-2 golang-gvisor golang-opentelemetry-otel-0.20 golang-sigs-k8s-kustomize golang-vitess infinipath-psm j4-dmenu-desktop jackson-dataformats-binary jackson-dataformats-text java-1.8.0-openjdk-aarch32 jreen libdeltacloud mingw-clucene mingw-speexdsp nbd-runner nodejs-generic-pool ofono pesign-test-app pthsem rust-drg\n"
     ]
    }
   ],
   "source": [
    "print(' '.join(sorted(s)))"
   ]
  },
  {
   "cell_type": "code",
   "execution_count": 7,
   "metadata": {},
   "outputs": [
    {
     "name": "stdout",
     "output_type": "stream",
     "text": [
      "calendar\n",
      "erlang-jose\n",
      "ghdl\n",
      "git-secrets\n",
      "golang-github-acme-lego\n",
      "golang-github-gatherstars-com-jwz\n",
      "golang-github-genuinetools-pkg\n",
      "golang-github-gobs-pretty\n",
      "golang-github-jhillyerd-enmime\n",
      "golang-github-pierrre-compare\n",
      "golang-github-smartystreets-goconvey\n",
      "golang-gopkg-square-jose-2\n",
      "golang-gvisor\n",
      "golang-opentelemetry-otel-0.20\n",
      "golang-sigs-k8s-kustomize\n",
      "golang-vitess\n",
      "infinipath-psm\n",
      "j4-dmenu-desktop\n",
      "jackson-dataformats-binary\n",
      "jackson-dataformats-text\n",
      "java-1.8.0-openjdk-aarch32\n",
      "jreen\n",
      "libdeltacloud\n",
      "mingw-clucene\n",
      "mingw-speexdsp\n",
      "nbd-runner\n",
      "nodejs-generic-pool\n",
      "ofono\n",
      "pesign-test-app\n",
      "pthsem\n",
      "rust-drg\n"
     ]
    }
   ],
   "source": [
    "print('\\n'.join(sorted(s)))"
   ]
  },
  {
   "cell_type": "code",
   "execution_count": null,
   "metadata": {},
   "outputs": [],
   "source": []
  }
 ],
 "metadata": {
  "kernelspec": {
   "display_name": "Python 3 (ipykernel)",
   "language": "python",
   "name": "python3"
  },
  "language_info": {
   "codemirror_mode": {
    "name": "ipython",
    "version": 3
   },
   "file_extension": ".py",
   "mimetype": "text/x-python",
   "name": "python",
   "nbconvert_exporter": "python",
   "pygments_lexer": "ipython3",
   "version": "3.12.1"
  }
 },
 "nbformat": 4,
 "nbformat_minor": 4
}
