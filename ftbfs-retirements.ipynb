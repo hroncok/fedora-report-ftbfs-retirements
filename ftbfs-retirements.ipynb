{
 "cells": [
  {
   "cell_type": "code",
   "execution_count": 1,
   "metadata": {},
   "outputs": [],
   "source": [
    "rawhide_pkgs = !repoquery --refresh --repo=koji-source --all --latest=1 2>/dev/null"
   ]
  },
  {
   "cell_type": "code",
   "execution_count": 2,
   "metadata": {},
   "outputs": [
    {
     "data": {
      "text/plain": [
       "['0ad-0:0.0.23b-21.fc33.src',\n",
       " '0ad-data-0:0.0.23b-5.fc33.src',\n",
       " '0xFFFF-0:0.8-4.fc33.src',\n",
       " '2048-cli-0:0.9.1-10.fc33.src',\n",
       " '2ping-0:4.5-2.fc33.src']"
      ]
     },
     "execution_count": 2,
     "metadata": {},
     "output_type": "execute_result"
    }
   ],
   "source": [
    "rawhide_pkgs[:5]"
   ]
  },
  {
   "cell_type": "code",
   "execution_count": 3,
   "metadata": {},
   "outputs": [
    {
     "name": "stdout",
     "output_type": "stream",
     "text": [
      "    VirtualGL-0:2.5.2-4.fc31.src\n",
      "    acpica-tools-0:20190509-5.fc31.src\n",
      "    arc-theme-0:20181022-3.fc31.src\n",
      "    boo-0:0.9.7.0-13.fc31.src\n",
      "    eigen3-0:3.3.7-3.fc31.src\n",
      "    ergo-0:3.7-4.fc31.src\n",
      "    fcoe-utils-0:1.0.32-9.git9834b34.fc31.src\n",
      "    gfalFS-0:1.5.2-6.fc31.src\n",
      "    gmpc-0:11.8.16-21.fc31.src\n",
      "    golang-k8s-legacy-cloud-providers-0:1.15.0-2.fc31.src\n",
      "    gr-iio-0:0.2-11.20170705git54c86a5.fc31.src\n",
      "    hdfview-0:2.14-4.fc31.src\n",
      "    jboss-servlet-2.5-api-0:1.0.1-18.fc31.src\n",
      "    js-html5shiv-0:3.7.3-5.fc31.src\n",
      "    js-respond-0:1.4.2-5.fc31.src\n",
      "    libint2-0:2.1.0-10.fc31.src\n",
      "    libpri-0:1.6.0-5.fc31.src\n",
      "    liquibase-0:3.6.3-2.fc31.src\n",
      "    mingw-eigen3-0:3.3.7-3.fc31.src\n",
      "    nodejs-body-parser-0:1.18.3-4.fc31.src\n",
      "    nodejs-escope-0:3.6.0-5.fc31.src\n",
      "    nodejs-globby-0:4.0.0-9.fc31.src\n",
      "    nodejs-info-symbol-0:0.1.0-5.fc31.src\n",
      "    nodejs-interpret-0:1.0.1-7.fc31.src\n",
      "    nodejs-net-browserify-alt-0:1.1.0-6.fc31.src\n",
      "    nodejs-win-spawn-0:2.0.0-7.fc31.src\n",
      "    rubygem-bundler_ext-0:0.4.1-7.fc31.src\n",
      "    rubygem-cucumber-0:3.1.2-6.fc31.src\n",
      "    rubygem-cucumber-core-0:3.2.0-3.fc31.src\n",
      "    rubygem-cucumber-wire-0:0.0.1-10.fc31.src\n",
      "    rubygem-erubis-0:2.7.0-19.fc31.src\n",
      "    rubygem-net-ssh-multi-0:1.2.1-5.fc31.src\n",
      "    sugar-castle-0:23-15.fc31.src\n",
      "    sugar-countries-0:33-17.fc31.src\n",
      "    sugar-deducto-0:9-16.fc31.src\n",
      "    sugar-flip-0:9-14.fc31.src\n",
      "    sugar-flipsticks-0:13-14.fc31.src\n",
      "    sugar-fractionbounce-0:25-6.fc31.src\n",
      "    sugar-getiabooks-0:18.2-2.fc31.src\n",
      "    sugar-infoslicer-0:25-7.fc31.src\n",
      "    sugar-kuku-0:5-11.fc31.src\n",
      "    sugar-labyrinth-0:16-12.fc31.src\n",
      "    sugar-locosugar-0:11-13.fc31.src\n",
      "    sugar-nutrition-0:15-7.fc31.src\n",
      "    sugar-playgo-0:5-21.fc31.src\n",
      "    sugar-recall-0:6-4.fc31.src\n",
      "    sugar-ruler-0:33-13.fc31.src\n",
      "    sugar-srilanka-0:3-11.fc31.src\n",
      "    sugar-starchart-0:16-12.fc31.src\n",
      "    sugar-view-slides-0:8-21.fc31.src\n",
      "    sugar-visualmatch-0:49-12.fc31.src\n",
      "    sugar-xoeditor-0:13-11.fc31.src\n",
      "    sugar-xoirc-0:12-11.fc31.src\n",
      "    sugar-yupana-0:17-11.fc31.src\n",
      "    unison213-0:2.13.16-38.fc31.src\n",
      "    unison227-0:2.27.157-15.fc31.src\n",
      "    unison240-0:2.40.128-14.fc31.src\n"
     ]
    }
   ],
   "source": [
    "s = set()\n",
    "\n",
    "for pkg in rawhide_pkgs:\n",
    "    nev, _, ra = pkg.rpartition('-')\n",
    "    name, _, ev = nev.rpartition('-')\n",
    "    epoch, _, version = ev.rpartition(':')\n",
    "    release, _, arch = ra.rpartition('.')\n",
    "    assert arch == 'src', pkg\n",
    "    # exceptions, https://docs.fedoraproject.org/en-US/fesco/Fails_to_build_from_source_Fails_to_install/#_packages_exempted_from_this_policy\n",
    "    if name in {'shim', 'shim-unsigned-aarch64', 'shim-unsigned-x64'}:\n",
    "        continue\n",
    "    fcpart = False\n",
    "    for part in reversed(release.split('.')):\n",
    "        if part.startswith('fc'):\n",
    "            fcpart = True\n",
    "            if part[:4] in ('fc34', 'fc33', 'fc32'):\n",
    "                break\n",
    "            else:\n",
    "                print('   ', pkg)\n",
    "                s.add(name)\n",
    "                break\n",
    "    else:\n",
    "        if not fcpart:\n",
    "            # special cases\n",
    "            if version in ('34', '33') and (name.startswith('fedora-') or name == 'generic-release'):\n",
    "                pass\n",
    "            else:\n",
    "                print('XXX', pkg)"
   ]
  },
  {
   "cell_type": "code",
   "execution_count": 4,
   "metadata": {},
   "outputs": [
    {
     "data": {
      "text/plain": [
       "['VirtualGL',\n",
       " 'acpica-tools',\n",
       " 'arc-theme',\n",
       " 'boo',\n",
       " 'eigen3',\n",
       " 'ergo',\n",
       " 'fcoe-utils',\n",
       " 'gfalFS',\n",
       " 'gmpc',\n",
       " 'golang-k8s-legacy-cloud-providers',\n",
       " 'gr-iio',\n",
       " 'hdfview',\n",
       " 'jboss-servlet-2.5-api',\n",
       " 'js-html5shiv',\n",
       " 'js-respond',\n",
       " 'libint2',\n",
       " 'libpri',\n",
       " 'liquibase',\n",
       " 'mingw-eigen3',\n",
       " 'nodejs-body-parser',\n",
       " 'nodejs-escope',\n",
       " 'nodejs-globby',\n",
       " 'nodejs-info-symbol',\n",
       " 'nodejs-interpret',\n",
       " 'nodejs-net-browserify-alt',\n",
       " 'nodejs-win-spawn',\n",
       " 'rubygem-bundler_ext',\n",
       " 'rubygem-cucumber',\n",
       " 'rubygem-cucumber-core',\n",
       " 'rubygem-cucumber-wire',\n",
       " 'rubygem-erubis',\n",
       " 'rubygem-net-ssh-multi',\n",
       " 'sugar-castle',\n",
       " 'sugar-countries',\n",
       " 'sugar-deducto',\n",
       " 'sugar-flip',\n",
       " 'sugar-flipsticks',\n",
       " 'sugar-fractionbounce',\n",
       " 'sugar-getiabooks',\n",
       " 'sugar-infoslicer',\n",
       " 'sugar-kuku',\n",
       " 'sugar-labyrinth',\n",
       " 'sugar-locosugar',\n",
       " 'sugar-nutrition',\n",
       " 'sugar-playgo',\n",
       " 'sugar-recall',\n",
       " 'sugar-ruler',\n",
       " 'sugar-srilanka',\n",
       " 'sugar-starchart',\n",
       " 'sugar-view-slides',\n",
       " 'sugar-visualmatch',\n",
       " 'sugar-xoeditor',\n",
       " 'sugar-xoirc',\n",
       " 'sugar-yupana',\n",
       " 'unison213',\n",
       " 'unison227',\n",
       " 'unison240']"
      ]
     },
     "execution_count": 4,
     "metadata": {},
     "output_type": "execute_result"
    }
   ],
   "source": [
    "sorted(s)"
   ]
  },
  {
   "cell_type": "code",
   "execution_count": 5,
   "metadata": {},
   "outputs": [
    {
     "data": {
      "text/plain": [
       "57"
      ]
     },
     "execution_count": 5,
     "metadata": {},
     "output_type": "execute_result"
    }
   ],
   "source": [
    "len(s)"
   ]
  },
  {
   "cell_type": "code",
   "execution_count": 6,
   "metadata": {},
   "outputs": [
    {
     "name": "stdout",
     "output_type": "stream",
     "text": [
      "sugar-visualmatch gmpc rubygem-net-ssh-multi rubygem-cucumber rubygem-erubis sugar-view-slides libpri sugar-deducto sugar-kuku sugar-srilanka nodejs-net-browserify-alt sugar-xoeditor sugar-getiabooks sugar-playgo sugar-labyrinth nodejs-escope arc-theme eigen3 nodejs-globby unison240 unison213 gr-iio nodejs-interpret sugar-xoirc unison227 fcoe-utils js-respond sugar-ruler ergo golang-k8s-legacy-cloud-providers sugar-countries sugar-recall VirtualGL nodejs-win-spawn sugar-castle sugar-flipsticks nodejs-body-parser libint2 nodejs-info-symbol sugar-nutrition gfalFS sugar-fractionbounce boo sugar-starchart jboss-servlet-2.5-api acpica-tools sugar-locosugar hdfview rubygem-cucumber-wire rubygem-cucumber-core rubygem-bundler_ext sugar-infoslicer mingw-eigen3 sugar-yupana sugar-flip js-html5shiv liquibase\n"
     ]
    }
   ],
   "source": [
    "print(' '.join(s))"
   ]
  },
  {
   "cell_type": "code",
   "execution_count": null,
   "metadata": {},
   "outputs": [],
   "source": []
  }
 ],
 "metadata": {
  "kernelspec": {
   "display_name": "Python 3",
   "language": "python",
   "name": "python3"
  },
  "language_info": {
   "codemirror_mode": {
    "name": "ipython",
    "version": 3
   },
   "file_extension": ".py",
   "mimetype": "text/x-python",
   "name": "python",
   "nbconvert_exporter": "python",
   "pygments_lexer": "ipython3",
   "version": "3.8.5"
  }
 },
 "nbformat": 4,
 "nbformat_minor": 2
}
