{
 "cells": [
  {
   "cell_type": "code",
   "execution_count": 1,
   "metadata": {},
   "outputs": [],
   "source": [
    "rawhide_pkgs = !repoquery -q --refresh --repo=koji-source --all --latest=1"
   ]
  },
  {
   "cell_type": "code",
   "execution_count": 2,
   "metadata": {},
   "outputs": [
    {
     "data": {
      "text/plain": [
       "['0ad-0:0.0.26-30.fc43.src',\n",
       " '0ad-data-0:0.0.26-11.fc42.src',\n",
       " '0install-0:2.18-5.fc43.src',\n",
       " '0xFFFF-0:0.10-13.fc42.src',\n",
       " '2048-cli-0:0.9.1-23.fc42.src']"
      ]
     },
     "execution_count": 2,
     "metadata": {},
     "output_type": "execute_result"
    }
   ],
   "source": [
    "rawhide_pkgs[:5]"
   ]
  },
  {
   "cell_type": "code",
   "execution_count": 3,
   "metadata": {},
   "outputs": [
    {
     "name": "stdout",
     "output_type": "stream",
     "text": [
      "    OliveTin-0:2022.11.14-8.fc40.src\n",
      "    dahdi-tools-0:2.11.1-31.fc40.src\n",
      "    dtkwm-0:2.0.12-22.fc40.src\n",
      "    freemarker-0:2.3.31-12.fc40.src\n",
      "    ghdl-0:3.0.0-1.20230308git7de967c.fc40.src\n",
      "    git-cinnabar-0:0.5.10-5.fc40.src\n",
      "    golang-github-deepmap-oapi-codegen-0:1.13.0-1.fc40.src\n",
      "    golang-github-fogleman-gg-0:1.3.0-15.20200726gitad4d1ea.fc40.src\n",
      "    golang-github-grpc-ecosystem-prometheus-0:1.2.0-16.20200727git9abf3eb.fc40.src\n",
      "    golang-github-intel-goresctrl-0:0.2.0-12.fc40.src\n",
      "    golang-github-jdkato-prose-1:1.2.1-9.fc40.src\n",
      "    golang-github-linkedin-goavro-0:2.10.0-10.fc40.src\n",
      "    golang-github-mesos-0:0.0.11-8.fc40.src\n",
      "    golang-github-nozzle-throttler-0:1.1-1.fc40.2.src\n",
      "    golang-github-nrdcg-porkbun-0:0.1.1-1.fc40.2.src\n",
      "    golang-github-prometheus-0:2.32.1-9.fc38.src\n",
      "    golang-github-r3labs-diff-3-0:3.0.1-1.fc40.src\n",
      "    golang-github-robertkrimen-otto-0:0-0.21.20210110gitef014fd.fc40.src\n",
      "    golang-github-segmentio-encoding-0:0.3.6-4.fc40.src\n",
      "    golang-github-siddontang-rdb-0:0-0.9.20210111gitfc89ed2.fc40.src\n",
      "    golang-github-stomp-3-0:3.0.2-9.fc40.src\n",
      "    golang-github-transip-gotransip-0:6.5.0-9.fc40.src\n",
      "    golang-github-vmware-govmomi-0:0.24.0-11.fc40.src\n",
      "    golang-github-wi2l-jettison-0:0.7.4-3.fc40.src\n",
      "    golang-github-xaionaro-metrics-0:0-0.8.20210706git68050b3.fc40.src\n",
      "    golang-github-xlab-treeprint-0:1.1.0-7.fc40.src\n",
      "    golang-github-yvasiyarov-metrics-0:0-0.16.20190626gitc25f46c.fc40.src\n",
      "    golang-gocloud-1:0.24.0-2.fc40~bootstrap.src\n",
      "    golang-gopkg-seborama-govcr-4-0:4.5.0-3.fc40.src\n",
      "    golang-honnef-tools-0:2023.1.3-3.20230802git0e3cc29.fc40.src\n",
      "    golang-k8s-apiserver-0:1.22.0-12.fc40.src\n",
      "    golang-k8s-component-base-0:1.22.0-9.fc40.src\n",
      "    golang-k8s-kube-aggregator-0:1.22.0-11.fc40.src\n",
      "    golang-k8s-pod-security-admission-0:1.22.0-10.fc40.src\n",
      "    golang-modernc-tcl-0:1.15.3-3.fc40.src\n",
      "    golang-mongodb-mongo-driver-0:1.4.5-12.fc40.src\n",
      "    javapoet-0:1.7.0-21.fc40.src\n",
      "    juniversalchardet-0:2.4.0-11.fc40.src\n",
      "    koffice-kivio-3:1.6.3-67.fc40.src\n",
      "    libgdl-1:3.40.0-6.fc40.src\n",
      "    mingw-GConf2-0:3.2.6-26.fc40.src\n",
      "    mingw-libgusb-0:0.4.5-5.fc40.src\n",
      "    mingw-wine-gecko-0:2.47.4-4.fc40.src\n",
      "    minicomputer-0:1.41-37.fc40.src\n",
      "    mod_qos-0:11.74-2.fc40.src\n",
      "    netresolve-0:0.0.1-0.39.20160317git.fc40.src\n",
      "    pdfsign-0:0-8.20220206gitd266daf.fc40.src\n",
      "    php-symfony-polyfill-0:1.28.0-1.fc40.src\n",
      "    plotdrop-0:0.5.3-33.fc40.src\n",
      "    rubygem-abrt-0:0.4.0-10.fc40.src\n",
      "    rubygem-fakefs-0:2.4.0-4.fc40.src\n",
      "    scalpel-0:2.1-0.rc2.35e1367.fc40.3.src\n",
      "    smesh-0:9.8.0.2-9.fc40.src\n",
      "    telepathy-logger-0:0.8.2-18.fc40.src\n",
      "    tinygo-0:0.30.0-4.fc40.src\n"
     ]
    }
   ],
   "source": [
    "s = set()\n",
    "\n",
    "for pkg in rawhide_pkgs:\n",
    "    nev, _, ra = pkg.rpartition('-')\n",
    "    name, _, ev = nev.rpartition('-')\n",
    "    epoch, _, version = ev.rpartition(':')\n",
    "    release, _, arch = ra.rpartition('.')\n",
    "    assert arch == 'src', pkg\n",
    "    # exceptions, https://docs.fedoraproject.org/en-US/fesco/Fails_to_build_from_source_Fails_to_install/#_packages_exempted_from_this_policy\n",
    "    if name in {'shim', 'shim-unsigned-aarch64', 'shim-unsigned-x64'}:\n",
    "        continue\n",
    "    # https://lists.fedoraproject.org/archives/list/devel@lists.fedoraproject.org/thread/DVVYHY2IOUBKCABUIUTP6GBFF5YGA6EY/\n",
    "    if name.startswith('java-') and name.endswith('-portable'):\n",
    "        continue\n",
    "    fcpart = False\n",
    "    for part in reversed(release.split('.')):\n",
    "        if part.startswith('fc'):\n",
    "            fcpart = True\n",
    "            if part[:4] in ('fc44', 'fc43', 'fc42', 'fc41'):\n",
    "                break\n",
    "            else:\n",
    "                print('   ', pkg)\n",
    "                s.add(name)\n",
    "                break\n",
    "    else:\n",
    "        if not fcpart:\n",
    "            # special cases\n",
    "            if version in ('44', '43', '42', '41') and (name.startswith('fedora-') or name == 'generic-release'):\n",
    "                pass\n",
    "            elif name.startswith('dummy-test-package-'):\n",
    "                pass\n",
    "            else:\n",
    "                print('XXX', pkg)"
   ]
  },
  {
   "cell_type": "code",
   "execution_count": 4,
   "metadata": {},
   "outputs": [
    {
     "data": {
      "text/plain": [
       "['OliveTin',\n",
       " 'dahdi-tools',\n",
       " 'dtkwm',\n",
       " 'freemarker',\n",
       " 'ghdl',\n",
       " 'git-cinnabar',\n",
       " 'golang-github-deepmap-oapi-codegen',\n",
       " 'golang-github-fogleman-gg',\n",
       " 'golang-github-grpc-ecosystem-prometheus',\n",
       " 'golang-github-intel-goresctrl',\n",
       " 'golang-github-jdkato-prose',\n",
       " 'golang-github-linkedin-goavro',\n",
       " 'golang-github-mesos',\n",
       " 'golang-github-nozzle-throttler',\n",
       " 'golang-github-nrdcg-porkbun',\n",
       " 'golang-github-prometheus',\n",
       " 'golang-github-r3labs-diff-3',\n",
       " 'golang-github-robertkrimen-otto',\n",
       " 'golang-github-segmentio-encoding',\n",
       " 'golang-github-siddontang-rdb',\n",
       " 'golang-github-stomp-3',\n",
       " 'golang-github-transip-gotransip',\n",
       " 'golang-github-vmware-govmomi',\n",
       " 'golang-github-wi2l-jettison',\n",
       " 'golang-github-xaionaro-metrics',\n",
       " 'golang-github-xlab-treeprint',\n",
       " 'golang-github-yvasiyarov-metrics',\n",
       " 'golang-gocloud',\n",
       " 'golang-gopkg-seborama-govcr-4',\n",
       " 'golang-honnef-tools',\n",
       " 'golang-k8s-apiserver',\n",
       " 'golang-k8s-component-base',\n",
       " 'golang-k8s-kube-aggregator',\n",
       " 'golang-k8s-pod-security-admission',\n",
       " 'golang-modernc-tcl',\n",
       " 'golang-mongodb-mongo-driver',\n",
       " 'javapoet',\n",
       " 'juniversalchardet',\n",
       " 'koffice-kivio',\n",
       " 'libgdl',\n",
       " 'mingw-GConf2',\n",
       " 'mingw-libgusb',\n",
       " 'mingw-wine-gecko',\n",
       " 'minicomputer',\n",
       " 'mod_qos',\n",
       " 'netresolve',\n",
       " 'pdfsign',\n",
       " 'php-symfony-polyfill',\n",
       " 'plotdrop',\n",
       " 'rubygem-abrt',\n",
       " 'rubygem-fakefs',\n",
       " 'scalpel',\n",
       " 'smesh',\n",
       " 'telepathy-logger',\n",
       " 'tinygo']"
      ]
     },
     "execution_count": 4,
     "metadata": {},
     "output_type": "execute_result"
    }
   ],
   "source": [
    "sorted(s)"
   ]
  },
  {
   "cell_type": "code",
   "execution_count": 5,
   "metadata": {},
   "outputs": [
    {
     "data": {
      "text/plain": [
       "55"
      ]
     },
     "execution_count": 5,
     "metadata": {},
     "output_type": "execute_result"
    }
   ],
   "source": [
    "len(s)"
   ]
  },
  {
   "cell_type": "code",
   "execution_count": 6,
   "metadata": {},
   "outputs": [
    {
     "name": "stdout",
     "output_type": "stream",
     "text": [
      "OliveTin dahdi-tools dtkwm freemarker ghdl git-cinnabar golang-github-deepmap-oapi-codegen golang-github-fogleman-gg golang-github-grpc-ecosystem-prometheus golang-github-intel-goresctrl golang-github-jdkato-prose golang-github-linkedin-goavro golang-github-mesos golang-github-nozzle-throttler golang-github-nrdcg-porkbun golang-github-prometheus golang-github-r3labs-diff-3 golang-github-robertkrimen-otto golang-github-segmentio-encoding golang-github-siddontang-rdb golang-github-stomp-3 golang-github-transip-gotransip golang-github-vmware-govmomi golang-github-wi2l-jettison golang-github-xaionaro-metrics golang-github-xlab-treeprint golang-github-yvasiyarov-metrics golang-gocloud golang-gopkg-seborama-govcr-4 golang-honnef-tools golang-k8s-apiserver golang-k8s-component-base golang-k8s-kube-aggregator golang-k8s-pod-security-admission golang-modernc-tcl golang-mongodb-mongo-driver javapoet juniversalchardet koffice-kivio libgdl mingw-GConf2 mingw-libgusb mingw-wine-gecko minicomputer mod_qos netresolve pdfsign php-symfony-polyfill plotdrop rubygem-abrt rubygem-fakefs scalpel smesh telepathy-logger tinygo\n"
     ]
    }
   ],
   "source": [
    "print(' '.join(sorted(s)))"
   ]
  },
  {
   "cell_type": "code",
   "execution_count": 7,
   "metadata": {},
   "outputs": [
    {
     "name": "stdout",
     "output_type": "stream",
     "text": [
      "OliveTin\n",
      "dahdi-tools\n",
      "dtkwm\n",
      "freemarker\n",
      "ghdl\n",
      "git-cinnabar\n",
      "golang-github-deepmap-oapi-codegen\n",
      "golang-github-fogleman-gg\n",
      "golang-github-grpc-ecosystem-prometheus\n",
      "golang-github-intel-goresctrl\n",
      "golang-github-jdkato-prose\n",
      "golang-github-linkedin-goavro\n",
      "golang-github-mesos\n",
      "golang-github-nozzle-throttler\n",
      "golang-github-nrdcg-porkbun\n",
      "golang-github-prometheus\n",
      "golang-github-r3labs-diff-3\n",
      "golang-github-robertkrimen-otto\n",
      "golang-github-segmentio-encoding\n",
      "golang-github-siddontang-rdb\n",
      "golang-github-stomp-3\n",
      "golang-github-transip-gotransip\n",
      "golang-github-vmware-govmomi\n",
      "golang-github-wi2l-jettison\n",
      "golang-github-xaionaro-metrics\n",
      "golang-github-xlab-treeprint\n",
      "golang-github-yvasiyarov-metrics\n",
      "golang-gocloud\n",
      "golang-gopkg-seborama-govcr-4\n",
      "golang-honnef-tools\n",
      "golang-k8s-apiserver\n",
      "golang-k8s-component-base\n",
      "golang-k8s-kube-aggregator\n",
      "golang-k8s-pod-security-admission\n",
      "golang-modernc-tcl\n",
      "golang-mongodb-mongo-driver\n",
      "javapoet\n",
      "juniversalchardet\n",
      "koffice-kivio\n",
      "libgdl\n",
      "mingw-GConf2\n",
      "mingw-libgusb\n",
      "mingw-wine-gecko\n",
      "minicomputer\n",
      "mod_qos\n",
      "netresolve\n",
      "pdfsign\n",
      "php-symfony-polyfill\n",
      "plotdrop\n",
      "rubygem-abrt\n",
      "rubygem-fakefs\n",
      "scalpel\n",
      "smesh\n",
      "telepathy-logger\n",
      "tinygo\n"
     ]
    }
   ],
   "source": [
    "print('\\n'.join(sorted(s)))"
   ]
  },
  {
   "cell_type": "code",
   "execution_count": null,
   "metadata": {},
   "outputs": [],
   "source": []
  }
 ],
 "metadata": {
  "kernelspec": {
   "display_name": "Python 3 (ipykernel)",
   "language": "python",
   "name": "python3"
  },
  "language_info": {
   "codemirror_mode": {
    "name": "ipython",
    "version": 3
   },
   "file_extension": ".py",
   "mimetype": "text/x-python",
   "name": "python",
   "nbconvert_exporter": "python",
   "pygments_lexer": "ipython3",
   "version": "3.13.5"
  }
 },
 "nbformat": 4,
 "nbformat_minor": 4
}
