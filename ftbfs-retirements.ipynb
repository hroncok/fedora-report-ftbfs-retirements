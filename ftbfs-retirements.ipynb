{
 "cells": [
  {
   "cell_type": "code",
   "execution_count": 1,
   "metadata": {},
   "outputs": [],
   "source": [
    "rawhide_pkgs = !repoquery --refresh --repo=koji-source --all --latest=1 2>/dev/null"
   ]
  },
  {
   "cell_type": "code",
   "execution_count": 2,
   "metadata": {},
   "outputs": [
    {
     "data": {
      "text/plain": [
       "['0ad-0:0.0.26-7.fc38.src',\n",
       " '0ad-data-0:0.0.26-2.fc38.src',\n",
       " '0xFFFF-0:0.10-2.fc38.src',\n",
       " '2048-cli-0:0.9.1-15.fc38.src',\n",
       " '2ping-0:4.5.1-5.fc38.src']"
      ]
     },
     "execution_count": 2,
     "metadata": {},
     "output_type": "execute_result"
    }
   ],
   "source": [
    "rawhide_pkgs[:5]"
   ]
  },
  {
   "cell_type": "code",
   "execution_count": 3,
   "metadata": {},
   "outputs": [
    {
     "name": "stdout",
     "output_type": "stream",
     "text": [
      "    ArpON-0:3.0-18.fc35.src\n",
      "    IQmol-0:2.15.0-5.fc35.src\n",
      "    alevt-0:1.6.2-38.fc35.src\n",
      "    bowtie-0:1.3.0-3.fc35.src\n",
      "    btkbdd-0:1.5-14.fc35.src\n",
      "    cave9-0:0.4-25.fc35.src\n",
      "    ccrypt-0:1.10-25.fc35.src\n",
      "    cjdns-0:21.1-6.fc35.src\n",
      "    datamash-0:1.6-7.fc35.src\n",
      "    erlpmd-0:3.0.0-5.fc35.src\n",
      "    free42-1:1.4.77-14.fc35.src\n",
      "    frogr-0:1.6-5.fc35.src\n",
      "    goddi-0:1.2-5.fc35.src\n",
      "    golang-github-adroll-goamz-0:0-0.25.20190702git2731d20.fc35.src\n",
      "    golang-github-aphistic-sweet-0:0.3.0-6.fc35.src\n",
      "    golang-github-aws-sdk-2-0.24-0:0.24.0-3.fc35.src\n",
      "    golang-github-cheekybits-genny-0:1.0.0-7.20200724git3e22f1a.fc35.src\n",
      "    golang-github-cockroachdb-gostdlib-0:1.13.0-2.fc35.src\n",
      "    golang-github-cosmos72-gomacro-0:2.7-15.20210109git88cbcb5.fc35.src\n",
      "    golang-github-dave-dst-0:0.26.2-2.fc35.src\n",
      "    golang-github-docker-licensing-0:0-0.7.20200726git5f0f127.fc35.src\n",
      "    golang-github-gdamore-optopia-0:0.2.0-3.fc35.src\n",
      "    golang-github-gopherjs-0:0-0.15.20200727gitfce0ec3.fc35.src\n",
      "    golang-github-jung-kurt-gofpdf-0:2.17.2-3.fc35.src\n",
      "    golang-github-latex-0:0-0.3.20201224git94de131.fc35.src\n",
      "    golang-github-maruel-panicparse-0:1.6.0-3.fc35.src\n",
      "    golang-github-maruel-panicparse-2-0:2.1.1-3.fc35.src\n",
      "    golang-github-mattermost-xml-roundtrip-validator-0:0-0.3.20210103git8fd2afa.fc35.src\n",
      "    golang-github-mholt-certmagic-0.8-0:0.8.3-4.fc35.src\n",
      "    golang-gonum-1-plot-0:0.8.1-4.20210125gita02d161.fc35.src\n",
      "    golang-helm-3-0:3.5.4-2.fc35.src\n",
      "    golang-istio-pkg-0:1.8.2-4.fc35.src\n",
      "    golang-sigs-k8s-application-0:0.8.3-3.fc35.src\n",
      "    golang-sigs-k8s-controller-runtime-0:0.6.5-3.fc35.src\n",
      "    gtkhash-0:1.4-4.fc35.src\n",
      "    howl-0:0.6-15.fc35.src\n",
      "    ipmiutil-0:3.1.2-10.fc35.src\n",
      "    irssi-xmpp-0:0.54-10.fc35.src\n",
      "    kguitar-0:0.5.1-34.926svn.fc35.src\n",
      "    kjots-0:5.1.0-4.fc35.src\n",
      "    libmobi-0:0.6-3.fc35.src\n",
      "    libmodulemd1-0:1.8.16-6.fc35.src\n",
      "    libndn-cxx-0:0.7.1-4.fc35.src\n",
      "    libsafec-0:3.3-9.fc35.src\n",
      "    libyami-0:1.3.2-4.20200125gitedd1ad1.fc35.src\n",
      "    libyami-utils-0:1.3.1-8.20191205gitc3d25b6.fc35.src\n",
      "    llvm10-0:10.0.0-13.fc35.src\n",
      "    llvm11-0:11.1.0-6.fc35.src\n",
      "    llvm12-0:12.0.1-2.fc35.src\n",
      "    llvm9.0-0:9.0.1-15.fc35.src\n",
      "    lucidlife-0:0.9.2-29.fc35.src\n",
      "    maven-scm-0:1.10.0-11.fc35.src\n",
      "    mimic-0:1.3.0.1-6.fc35.src\n",
      "    nall-0:1.0-25.fc35.src\n",
      "    nodejs-tape-0:5.1.1-3.fc35.src\n",
      "    openas2-0:2.10.0-9.fc35.src\n",
      "    opencl-utils-0:1-14.svn16.fc35.src\n",
      "    ortp-2:0.23.0-8.fc35.src\n",
      "    percona-xtrabackup-0:8.0.25_17-1.fc35.src\n",
      "    phasex-0:0.12.0-18.12.m1.fc35.src\n",
      "    php-doctrine-common-1:2.13.3-5.fc35.src\n",
      "    php-hamcrest-0:1.2.2-13.fc35.src\n",
      "    php-laminas-code-0:3.5.1-3.fc35.src\n",
      "    php-laminas-config-0:2.6.0-7.fc35.src\n",
      "    php-ocramius-proxy-manager-0:2.2.3-4.fc35.src\n",
      "    php-symfony-security-acl-0:2.8.0-13.fc35.src\n",
      "    portlet-2.0-api-0:1.0-24.fc35.src\n",
      "    rnetclient-0:2017.1-10.fc35.src\n",
      "    simde-0:0.7.3-1.git3378ab3.fc35.src\n",
      "    tpm2-tss-engine-0:1.1.0-3.fc35.src\n",
      "    validns-0:0.8-20.fc35.src\n",
      "    waffle-0:1.6.1-4.fc35.src\n",
      "    wdune-0:1.958-7.fc35.src\n",
      "    xml-security-c-0:2.0.2-9.fc35.src\n",
      "    zmk-0:0.5.1-2.fc35.src\n"
     ]
    }
   ],
   "source": [
    "s = set()\n",
    "\n",
    "for pkg in rawhide_pkgs:\n",
    "    nev, _, ra = pkg.rpartition('-')\n",
    "    name, _, ev = nev.rpartition('-')\n",
    "    epoch, _, version = ev.rpartition(':')\n",
    "    release, _, arch = ra.rpartition('.')\n",
    "    assert arch == 'src', pkg\n",
    "    # exceptions, https://docs.fedoraproject.org/en-US/fesco/Fails_to_build_from_source_Fails_to_install/#_packages_exempted_from_this_policy\n",
    "    if name in {'shim', 'shim-unsigned-aarch64', 'shim-unsigned-x64'}:\n",
    "        continue\n",
    "    fcpart = False\n",
    "    for part in reversed(release.split('.')):\n",
    "        if part.startswith('fc'):\n",
    "            fcpart = True\n",
    "            if part[:4] in ('fc38', 'fc37', 'fc36'):\n",
    "                break\n",
    "            else:\n",
    "                print('   ', pkg)\n",
    "                s.add(name)\n",
    "                break\n",
    "    else:\n",
    "        if not fcpart:\n",
    "            # special cases\n",
    "            if version in ('38', '37', '36',) and (name.startswith('fedora-') or name == 'generic-release'):\n",
    "                pass\n",
    "            elif name.startswith('dummy-test-package-'):\n",
    "                pass\n",
    "            else:\n",
    "                print('XXX', pkg)"
   ]
  },
  {
   "cell_type": "code",
   "execution_count": 4,
   "metadata": {},
   "outputs": [
    {
     "data": {
      "text/plain": [
       "['ArpON',\n",
       " 'IQmol',\n",
       " 'alevt',\n",
       " 'bowtie',\n",
       " 'btkbdd',\n",
       " 'cave9',\n",
       " 'ccrypt',\n",
       " 'cjdns',\n",
       " 'datamash',\n",
       " 'erlpmd',\n",
       " 'free42',\n",
       " 'frogr',\n",
       " 'goddi',\n",
       " 'golang-github-adroll-goamz',\n",
       " 'golang-github-aphistic-sweet',\n",
       " 'golang-github-aws-sdk-2-0.24',\n",
       " 'golang-github-cheekybits-genny',\n",
       " 'golang-github-cockroachdb-gostdlib',\n",
       " 'golang-github-cosmos72-gomacro',\n",
       " 'golang-github-dave-dst',\n",
       " 'golang-github-docker-licensing',\n",
       " 'golang-github-gdamore-optopia',\n",
       " 'golang-github-gopherjs',\n",
       " 'golang-github-jung-kurt-gofpdf',\n",
       " 'golang-github-latex',\n",
       " 'golang-github-maruel-panicparse',\n",
       " 'golang-github-maruel-panicparse-2',\n",
       " 'golang-github-mattermost-xml-roundtrip-validator',\n",
       " 'golang-github-mholt-certmagic-0.8',\n",
       " 'golang-gonum-1-plot',\n",
       " 'golang-helm-3',\n",
       " 'golang-istio-pkg',\n",
       " 'golang-sigs-k8s-application',\n",
       " 'golang-sigs-k8s-controller-runtime',\n",
       " 'gtkhash',\n",
       " 'howl',\n",
       " 'ipmiutil',\n",
       " 'irssi-xmpp',\n",
       " 'kguitar',\n",
       " 'kjots',\n",
       " 'libmobi',\n",
       " 'libmodulemd1',\n",
       " 'libndn-cxx',\n",
       " 'libsafec',\n",
       " 'libyami',\n",
       " 'libyami-utils',\n",
       " 'llvm10',\n",
       " 'llvm11',\n",
       " 'llvm12',\n",
       " 'llvm9.0',\n",
       " 'lucidlife',\n",
       " 'maven-scm',\n",
       " 'mimic',\n",
       " 'nall',\n",
       " 'nodejs-tape',\n",
       " 'openas2',\n",
       " 'opencl-utils',\n",
       " 'ortp',\n",
       " 'percona-xtrabackup',\n",
       " 'phasex',\n",
       " 'php-doctrine-common',\n",
       " 'php-hamcrest',\n",
       " 'php-laminas-code',\n",
       " 'php-laminas-config',\n",
       " 'php-ocramius-proxy-manager',\n",
       " 'php-symfony-security-acl',\n",
       " 'portlet-2.0-api',\n",
       " 'rnetclient',\n",
       " 'simde',\n",
       " 'tpm2-tss-engine',\n",
       " 'validns',\n",
       " 'waffle',\n",
       " 'wdune',\n",
       " 'xml-security-c',\n",
       " 'zmk']"
      ]
     },
     "execution_count": 4,
     "metadata": {},
     "output_type": "execute_result"
    }
   ],
   "source": [
    "sorted(s)"
   ]
  },
  {
   "cell_type": "code",
   "execution_count": 5,
   "metadata": {},
   "outputs": [
    {
     "data": {
      "text/plain": [
       "75"
      ]
     },
     "execution_count": 5,
     "metadata": {},
     "output_type": "execute_result"
    }
   ],
   "source": [
    "len(s)"
   ]
  },
  {
   "cell_type": "code",
   "execution_count": 6,
   "metadata": {},
   "outputs": [
    {
     "name": "stdout",
     "output_type": "stream",
     "text": [
      "ArpON IQmol alevt bowtie btkbdd cave9 ccrypt cjdns datamash erlpmd free42 frogr goddi golang-github-adroll-goamz golang-github-aphistic-sweet golang-github-aws-sdk-2-0.24 golang-github-cheekybits-genny golang-github-cockroachdb-gostdlib golang-github-cosmos72-gomacro golang-github-dave-dst golang-github-docker-licensing golang-github-gdamore-optopia golang-github-gopherjs golang-github-jung-kurt-gofpdf golang-github-latex golang-github-maruel-panicparse golang-github-maruel-panicparse-2 golang-github-mattermost-xml-roundtrip-validator golang-github-mholt-certmagic-0.8 golang-gonum-1-plot golang-helm-3 golang-istio-pkg golang-sigs-k8s-application golang-sigs-k8s-controller-runtime gtkhash howl ipmiutil irssi-xmpp kguitar kjots libmobi libmodulemd1 libndn-cxx libsafec libyami libyami-utils llvm10 llvm11 llvm12 llvm9.0 lucidlife maven-scm mimic nall nodejs-tape openas2 opencl-utils ortp percona-xtrabackup phasex php-doctrine-common php-hamcrest php-laminas-code php-laminas-config php-ocramius-proxy-manager php-symfony-security-acl portlet-2.0-api rnetclient simde tpm2-tss-engine validns waffle wdune xml-security-c zmk\n"
     ]
    }
   ],
   "source": [
    "print(' '.join(sorted(s)))"
   ]
  },
  {
   "cell_type": "code",
   "execution_count": 7,
   "metadata": {},
   "outputs": [
    {
     "name": "stdout",
     "output_type": "stream",
     "text": [
      "ArpON\n",
      "IQmol\n",
      "alevt\n",
      "bowtie\n",
      "btkbdd\n",
      "cave9\n",
      "ccrypt\n",
      "cjdns\n",
      "datamash\n",
      "erlpmd\n",
      "free42\n",
      "frogr\n",
      "goddi\n",
      "golang-github-adroll-goamz\n",
      "golang-github-aphistic-sweet\n",
      "golang-github-aws-sdk-2-0.24\n",
      "golang-github-cheekybits-genny\n",
      "golang-github-cockroachdb-gostdlib\n",
      "golang-github-cosmos72-gomacro\n",
      "golang-github-dave-dst\n",
      "golang-github-docker-licensing\n",
      "golang-github-gdamore-optopia\n",
      "golang-github-gopherjs\n",
      "golang-github-jung-kurt-gofpdf\n",
      "golang-github-latex\n",
      "golang-github-maruel-panicparse\n",
      "golang-github-maruel-panicparse-2\n",
      "golang-github-mattermost-xml-roundtrip-validator\n",
      "golang-github-mholt-certmagic-0.8\n",
      "golang-gonum-1-plot\n",
      "golang-helm-3\n",
      "golang-istio-pkg\n",
      "golang-sigs-k8s-application\n",
      "golang-sigs-k8s-controller-runtime\n",
      "gtkhash\n",
      "howl\n",
      "ipmiutil\n",
      "irssi-xmpp\n",
      "kguitar\n",
      "kjots\n",
      "libmobi\n",
      "libmodulemd1\n",
      "libndn-cxx\n",
      "libsafec\n",
      "libyami\n",
      "libyami-utils\n",
      "llvm10\n",
      "llvm11\n",
      "llvm12\n",
      "llvm9.0\n",
      "lucidlife\n",
      "maven-scm\n",
      "mimic\n",
      "nall\n",
      "nodejs-tape\n",
      "openas2\n",
      "opencl-utils\n",
      "ortp\n",
      "percona-xtrabackup\n",
      "phasex\n",
      "php-doctrine-common\n",
      "php-hamcrest\n",
      "php-laminas-code\n",
      "php-laminas-config\n",
      "php-ocramius-proxy-manager\n",
      "php-symfony-security-acl\n",
      "portlet-2.0-api\n",
      "rnetclient\n",
      "simde\n",
      "tpm2-tss-engine\n",
      "validns\n",
      "waffle\n",
      "wdune\n",
      "xml-security-c\n",
      "zmk\n"
     ]
    }
   ],
   "source": [
    "print('\\n'.join(sorted(s)))"
   ]
  },
  {
   "cell_type": "code",
   "execution_count": null,
   "metadata": {},
   "outputs": [],
   "source": []
  }
 ],
 "metadata": {
  "kernelspec": {
   "display_name": "Python 3 (ipykernel)",
   "language": "python",
   "name": "python3"
  },
  "language_info": {
   "codemirror_mode": {
    "name": "ipython",
    "version": 3
   },
   "file_extension": ".py",
   "mimetype": "text/x-python",
   "name": "python",
   "nbconvert_exporter": "python",
   "pygments_lexer": "ipython3",
   "version": "3.11.1"
  }
 },
 "nbformat": 4,
 "nbformat_minor": 2
}
